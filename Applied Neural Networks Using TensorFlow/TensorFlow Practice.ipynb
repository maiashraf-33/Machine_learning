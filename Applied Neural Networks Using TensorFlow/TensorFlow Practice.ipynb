{
 "cells": [
  {
   "cell_type": "markdown",
   "metadata": {
    "id": "2K9IMOstewSd"
   },
   "source": [
    "### Difference between layers & tensors\n",
    "**Layers are used to construct a deep learning model, and tensors are used to define the data flow through the mode**"
   ]
  },
  {
   "cell_type": "code",
   "execution_count": 1,
   "metadata": {
    "colab": {
     "base_uri": "https://localhost:8080/"
    },
    "id": "6gCZY1TvdIOn",
    "outputId": "9999b417-62d6-4888-ebee-013c33f16d2e"
   },
   "outputs": [
    {
     "name": "stdout",
     "output_type": "stream",
     "text": [
      "Tensor:  <class 'keras.engine.keras_tensor.KerasTensor'>\n"
     ]
    }
   ],
   "source": [
    "# Import Input from keras.layers\n",
    "from keras.layers import Input, Dense\n",
    "\n",
    "# Create an input layer of shape 1\n",
    "input_tensor = Input(shape=(1,))\n",
    "print('Tensor: ', type(input_tensor))"
   ]
  },
  {
   "cell_type": "code",
   "execution_count": 2,
   "metadata": {
    "colab": {
     "base_uri": "https://localhost:8080/"
    },
    "id": "9Puse3XCdJsC",
    "outputId": "a25f4ef8-21d7-483e-a8da-a9f0abc127a2"
   },
   "outputs": [
    {
     "name": "stdout",
     "output_type": "stream",
     "text": [
      "Layer or function:  <class 'keras.layers.core.dense.Dense'>\n"
     ]
    }
   ],
   "source": [
    "# Input layer\n",
    "input_tensor = Input(shape=(1,))\n",
    "\n",
    "# Dense layer\n",
    "output_layer = Dense(1)\n",
    "print('Layer or function: ',type(output_layer))\n",
    "\n",
    "# Connect the dense layer to the input_tensor\n",
    "# Create output layer and output tensor at the same time\n",
    "output_tensor = output_layer(input_tensor)"
   ]
  },
  {
   "cell_type": "code",
   "execution_count": 3,
   "metadata": {
    "id": "WY6uhQBkdUlD"
   },
   "outputs": [],
   "source": [
    "from keras.layers import Input, Dense\n",
    "input_tensor = Input(shape=(1,))\n",
    "output_tensor = Dense(1)(input_tensor)\n",
    "\n",
    "# Build the model\n",
    "from keras.models import Model\n",
    "model = Model(input_tensor, output_tensor)"
   ]
  },
  {
   "cell_type": "code",
   "execution_count": 4,
   "metadata": {
    "id": "_LfykWrvlqgx"
   },
   "outputs": [],
   "source": [
    "model.compile(optimizer='adam', loss='mean_absolute_error')"
   ]
  },
  {
   "cell_type": "code",
   "execution_count": 5,
   "metadata": {
    "colab": {
     "base_uri": "https://localhost:8080/",
     "height": 508
    },
    "id": "7liE2VcFltpg",
    "outputId": "a0e76008-4005-4110-9287-97f12601eab8"
   },
   "outputs": [
    {
     "name": "stdout",
     "output_type": "stream",
     "text": [
      "Model: \"model\"\n",
      "_________________________________________________________________\n",
      " Layer (type)                Output Shape              Param #   \n",
      "=================================================================\n",
      " input_3 (InputLayer)        [(None, 1)]               0         \n",
      "                                                                 \n",
      " dense_1 (Dense)             (None, 1)                 2         \n",
      "                                                                 \n",
      "=================================================================\n",
      "Total params: 2\n",
      "Trainable params: 2\n",
      "Non-trainable params: 0\n",
      "_________________________________________________________________\n"
     ]
    },
    {
     "data": {
      "image/png": "[encoded data removed]",
      "text/plain": [
       "<Figure size 432x288 with 1 Axes>"
      ]
     },
     "metadata": {
      "needs_background": "light"
     },
     "output_type": "display_data"
    }
   ],
   "source": [
    "# Import the plotting function\n",
    "from keras.utils.vis_utils import plot_model\n",
    "import matplotlib.pyplot as plt\n",
    "\n",
    "# Summarize the model\n",
    "model.summary()\n",
    "\n",
    "# Plot the model\n",
    "plot_model(model, to_file='model.png')\n",
    "\n",
    "# Display the image\n",
    "data = plt.imread('model.png')\n",
    "plt.imshow(data)\n",
    "plt.show()"
   ]
  },
  {
   "cell_type": "markdown",
   "metadata": {
    "id": "rVjMMh7zmJ0p"
   },
   "source": [
    "### Fit the previous model into our basketball data"
   ]
  },
  {
   "cell_type": "code",
   "execution_count": 6,
   "metadata": {
    "colab": {
     "base_uri": "https://localhost:8080/",
     "height": 206
    },
    "id": "kPp7pfxgpNEi",
    "outputId": "e096c36e-2f1d-4e78-9b53-e4f32c2aacf2"
   },
   "outputs": [
    {
     "data": {
      "text/html": [
       "\n",
       "  <div id=\"df-853e1574-329d-4ced-a55b-ba83ba2f51fb\">\n",
       "    <div class=\"colab-df-container\">\n",
       "      <div>\n",
       "<style scoped>\n",
       "    .dataframe tbody tr th:only-of-type {\n",
       "        vertical-align: middle;\n",
       "    }\n",
       "\n",
       "    .dataframe tbody tr th {\n",
       "        vertical-align: top;\n",
       "    }\n",
       "\n",
       "    .dataframe thead th {\n",
       "        text-align: right;\n",
       "    }\n",
       "</style>\n",
       "<table border=\"1\" class=\"dataframe\">\n",
       "  <thead>\n",
       "    <tr style=\"text-align: right;\">\n",
       "      <th></th>\n",
       "      <th>season</th>\n",
       "      <th>team_1</th>\n",
       "      <th>team_2</th>\n",
       "      <th>home</th>\n",
       "      <th>seed_diff</th>\n",
       "      <th>score_diff</th>\n",
       "      <th>score_1</th>\n",
       "      <th>score_2</th>\n",
       "      <th>won</th>\n",
       "    </tr>\n",
       "  </thead>\n",
       "  <tbody>\n",
       "    <tr>\n",
       "      <th>3989</th>\n",
       "      <td>2016</td>\n",
       "      <td>7990</td>\n",
       "      <td>3299</td>\n",
       "      <td>0</td>\n",
       "      <td>5</td>\n",
       "      <td>-16</td>\n",
       "      <td>52</td>\n",
       "      <td>68</td>\n",
       "      <td>0</td>\n",
       "    </tr>\n",
       "    <tr>\n",
       "      <th>2714</th>\n",
       "      <td>2006</td>\n",
       "      <td>8937</td>\n",
       "      <td>4753</td>\n",
       "      <td>0</td>\n",
       "      <td>-8</td>\n",
       "      <td>-1</td>\n",
       "      <td>57</td>\n",
       "      <td>58</td>\n",
       "      <td>0</td>\n",
       "    </tr>\n",
       "    <tr>\n",
       "      <th>2046</th>\n",
       "      <td>2001</td>\n",
       "      <td>1155</td>\n",
       "      <td>2962</td>\n",
       "      <td>0</td>\n",
       "      <td>1</td>\n",
       "      <td>-12</td>\n",
       "      <td>70</td>\n",
       "      <td>82</td>\n",
       "      <td>0</td>\n",
       "    </tr>\n",
       "    <tr>\n",
       "      <th>3321</th>\n",
       "      <td>2011</td>\n",
       "      <td>1039</td>\n",
       "      <td>1805</td>\n",
       "      <td>0</td>\n",
       "      <td>-5</td>\n",
       "      <td>-12</td>\n",
       "      <td>41</td>\n",
       "      <td>53</td>\n",
       "      <td>0</td>\n",
       "    </tr>\n",
       "    <tr>\n",
       "      <th>4018</th>\n",
       "      <td>2016</td>\n",
       "      <td>6573</td>\n",
       "      <td>5243</td>\n",
       "      <td>0</td>\n",
       "      <td>5</td>\n",
       "      <td>7</td>\n",
       "      <td>70</td>\n",
       "      <td>63</td>\n",
       "      <td>1</td>\n",
       "    </tr>\n",
       "  </tbody>\n",
       "</table>\n",
       "</div>\n",
       "      <button class=\"colab-df-convert\" onclick=\"convertToInteractive('df-853e1574-329d-4ced-a55b-ba83ba2f51fb')\"\n",
       "              title=\"Convert this dataframe to an interactive table.\"\n",
       "              style=\"display:none;\">\n",
       "        \n",
       "  <svg xmlns=\"http://www.w3.org/2000/svg\" height=\"24px\"viewBox=\"0 0 24 24\"\n",
       "       width=\"24px\">\n",
       "    <path d=\"M0 0h24v24H0V0z\" fill=\"none\"/>\n",
       "    <path d=\"M18.56 5.44l.94 2.06.94-2.06 2.06-.94-2.06-.94-.94-2.06-.94 2.06-2.06.94zm-11 1L8.5 8.5l.94-2.06 2.06-.94-2.06-.94L8.5 2.5l-.94 2.06-2.06.94zm10 10l.94 2.06.94-2.06 2.06-.94-2.06-.94-.94-2.06-.94 2.06-2.06.94z\"/><path d=\"M17.41 7.96l-1.37-1.37c-.4-.4-.92-.59-1.43-.59-.52 0-1.04.2-1.43.59L10.3 9.45l-7.72 7.72c-.78.78-.78 2.05 0 2.83L4 21.41c.39.39.9.59 1.41.59.51 0 1.02-.2 1.41-.59l7.78-7.78 2.81-2.81c.8-.78.8-2.07 0-2.86zM5.41 20L4 18.59l7.72-7.72 1.47 1.35L5.41 20z\"/>\n",
       "  </svg>\n",
       "      </button>\n",
       "      \n",
       "  <style>\n",
       "    .colab-df-container {\n",
       "      display:flex;\n",
       "      flex-wrap:wrap;\n",
       "      gap: 12px;\n",
       "    }\n",
       "\n",
       "    .colab-df-convert {\n",
       "      background-color: #E8F0FE;\n",
       "      border: none;\n",
       "      border-radius: 50%;\n",
       "      cursor: pointer;\n",
       "      display: none;\n",
       "      fill: #1967D2;\n",
       "      height: 32px;\n",
       "      padding: 0 0 0 0;\n",
       "      width: 32px;\n",
       "    }\n",
       "\n",
       "    .colab-df-convert:hover {\n",
       "      background-color: #E2EBFA;\n",
       "      box-shadow: 0px 1px 2px rgba(60, 64, 67, 0.3), 0px 1px 3px 1px rgba(60, 64, 67, 0.15);\n",
       "      fill: #174EA6;\n",
       "    }\n",
       "\n",
       "    [theme=dark] .colab-df-convert {\n",
       "      background-color: #3B4455;\n",
       "      fill: #D2E3FC;\n",
       "    }\n",
       "\n",
       "    [theme=dark] .colab-df-convert:hover {\n",
       "      background-color: #434B5C;\n",
       "      box-shadow: 0px 1px 3px 1px rgba(0, 0, 0, 0.15);\n",
       "      filter: drop-shadow(0px 1px 2px rgba(0, 0, 0, 0.3));\n",
       "      fill: #FFFFFF;\n",
       "    }\n",
       "  </style>\n",
       "\n",
       "      <script>\n",
       "        const buttonEl =\n",
       "          document.querySelector('#df-853e1574-329d-4ced-a55b-ba83ba2f51fb button.colab-df-convert');\n",
       "        buttonEl.style.display =\n",
       "          google.colab.kernel.accessAllowed ? 'block' : 'none';\n",
       "\n",
       "        async function convertToInteractive(key) {\n",
       "          const element = document.querySelector('#df-853e1574-329d-4ced-a55b-ba83ba2f51fb');\n",
       "          const dataTable =\n",
       "            await google.colab.kernel.invokeFunction('convertToInteractive',\n",
       "                                                     [key], {});\n",
       "          if (!dataTable) return;\n",
       "\n",
       "          const docLinkHtml = 'Like what you see? Visit the ' +\n",
       "            '<a target=\"_blank\" href=https://colab.research.google.com/notebooks/data_table.ipynb>data table notebook</a>'\n",
       "            + ' to learn more about interactive tables.';\n",
       "          element.innerHTML = '';\n",
       "          dataTable['output_type'] = 'display_data';\n",
       "          await google.colab.output.renderOutput(dataTable, element);\n",
       "          const docLink = document.createElement('div');\n",
       "          docLink.innerHTML = docLinkHtml;\n",
       "          element.appendChild(docLink);\n",
       "        }\n",
       "      </script>\n",
       "    </div>\n",
       "  </div>\n",
       "  "
      ],
      "text/plain": [
       "      season  team_1  team_2  home  seed_diff  score_diff  score_1  score_2  \\\n",
       "3989    2016    7990    3299     0          5         -16       52       68   \n",
       "2714    2006    8937    4753     0         -8          -1       57       58   \n",
       "2046    2001    1155    2962     0          1         -12       70       82   \n",
       "3321    2011    1039    1805     0         -5         -12       41       53   \n",
       "4018    2016    6573    5243     0          5           7       70       63   \n",
       "\n",
       "      won  \n",
       "3989    0  \n",
       "2714    0  \n",
       "2046    0  \n",
       "3321    0  \n",
       "4018    1  "
      ]
     },
     "execution_count": 6,
     "metadata": {},
     "output_type": "execute_result"
    }
   ],
   "source": [
    "# The term seed can be termed same as a 'walkover' given to the team that has performed well in the same competition\n",
    "# The team with 1 seed is very good and the team with 16 seed is very bad tead\n",
    "# So in you input the seed differences will range from -15 to 15\n",
    "# Your input will be the difference in seed between the two teams. \n",
    "# Your output will be the difference in score between the two teams.\n",
    "# So a positive seed difference is usually predictive of a negative score difference, and a negative seed difference is usually predictive of a positive score difference. \n",
    "import pandas as pd\n",
    "\n",
    "games = pd.read_csv('/content/games_tourney.csv')\n",
    "games.sample(5)"
   ]
  },
  {
   "cell_type": "code",
   "execution_count": 7,
   "metadata": {
    "colab": {
     "base_uri": "https://localhost:8080/"
    },
    "id": "YDN3awSuq2ps",
    "outputId": "b6de8aea-777b-4127-b470-39c659639fbb"
   },
   "outputs": [
    {
     "name": "stdout",
     "output_type": "stream",
     "text": [
      "53/53 [==============================] - 1s 8ms/step - loss: 19.2086 - val_loss: 17.9355\n"
     ]
    },
    {
     "data": {
      "text/plain": [
       "<keras.callbacks.History at 0x7f64262b8910>"
      ]
     },
     "execution_count": 7,
     "metadata": {},
     "output_type": "execute_result"
    }
   ],
   "source": [
    "model.fit(games['seed_diff'], games['score_diff'], batch_size=64, validation_split=0.2 , verbose=True)\n",
    "# model.evaluate()"
   ]
  },
  {
   "cell_type": "markdown",
   "metadata": {
    "id": "JTii-tDVwwju"
   },
   "source": [
    "### Category embeddings"
   ]
  },
  {
   "cell_type": "code",
   "execution_count": 8,
   "metadata": {
    "colab": {
     "base_uri": "https://localhost:8080/",
     "height": 206
    },
    "id": "eiaQbOxct8Qe",
    "outputId": "aa0f6114-37a5-4a1d-c680-68b0b6d22287"
   },
   "outputs": [
    {
     "data": {
      "text/html": [
       "\n",
       "  <div id=\"df-255c405f-64f5-41cd-a4c7-3a04505ef698\">\n",
       "    <div class=\"colab-df-container\">\n",
       "      <div>\n",
       "<style scoped>\n",
       "    .dataframe tbody tr th:only-of-type {\n",
       "        vertical-align: middle;\n",
       "    }\n",
       "\n",
       "    .dataframe tbody tr th {\n",
       "        vertical-align: top;\n",
       "    }\n",
       "\n",
       "    .dataframe thead th {\n",
       "        text-align: right;\n",
       "    }\n",
       "</style>\n",
       "<table border=\"1\" class=\"dataframe\">\n",
       "  <thead>\n",
       "    <tr style=\"text-align: right;\">\n",
       "      <th></th>\n",
       "      <th>season</th>\n",
       "      <th>team_1</th>\n",
       "      <th>team_2</th>\n",
       "      <th>home</th>\n",
       "      <th>score_diff</th>\n",
       "      <th>score_1</th>\n",
       "      <th>score_2</th>\n",
       "      <th>won</th>\n",
       "    </tr>\n",
       "  </thead>\n",
       "  <tbody>\n",
       "    <tr>\n",
       "      <th>159772</th>\n",
       "      <td>1985</td>\n",
       "      <td>4941</td>\n",
       "      <td>2340</td>\n",
       "      <td>1</td>\n",
       "      <td>-13</td>\n",
       "      <td>73</td>\n",
       "      <td>86</td>\n",
       "      <td>0</td>\n",
       "    </tr>\n",
       "    <tr>\n",
       "      <th>223891</th>\n",
       "      <td>2001</td>\n",
       "      <td>3727</td>\n",
       "      <td>10734</td>\n",
       "      <td>0</td>\n",
       "      <td>-3</td>\n",
       "      <td>73</td>\n",
       "      <td>76</td>\n",
       "      <td>0</td>\n",
       "    </tr>\n",
       "    <tr>\n",
       "      <th>198237</th>\n",
       "      <td>1995</td>\n",
       "      <td>2384</td>\n",
       "      <td>8449</td>\n",
       "      <td>0</td>\n",
       "      <td>-13</td>\n",
       "      <td>77</td>\n",
       "      <td>90</td>\n",
       "      <td>0</td>\n",
       "    </tr>\n",
       "    <tr>\n",
       "      <th>99976</th>\n",
       "      <td>2008</td>\n",
       "      <td>1471</td>\n",
       "      <td>8685</td>\n",
       "      <td>1</td>\n",
       "      <td>8</td>\n",
       "      <td>74</td>\n",
       "      <td>66</td>\n",
       "      <td>1</td>\n",
       "    </tr>\n",
       "    <tr>\n",
       "      <th>153381</th>\n",
       "      <td>2018</td>\n",
       "      <td>6829</td>\n",
       "      <td>355</td>\n",
       "      <td>0</td>\n",
       "      <td>4</td>\n",
       "      <td>76</td>\n",
       "      <td>72</td>\n",
       "      <td>1</td>\n",
       "    </tr>\n",
       "  </tbody>\n",
       "</table>\n",
       "</div>\n",
       "      <button class=\"colab-df-convert\" onclick=\"convertToInteractive('df-255c405f-64f5-41cd-a4c7-3a04505ef698')\"\n",
       "              title=\"Convert this dataframe to an interactive table.\"\n",
       "              style=\"display:none;\">\n",
       "        \n",
       "  <svg xmlns=\"http://www.w3.org/2000/svg\" height=\"24px\"viewBox=\"0 0 24 24\"\n",
       "       width=\"24px\">\n",
       "    <path d=\"M0 0h24v24H0V0z\" fill=\"none\"/>\n",
       "    <path d=\"M18.56 5.44l.94 2.06.94-2.06 2.06-.94-2.06-.94-.94-2.06-.94 2.06-2.06.94zm-11 1L8.5 8.5l.94-2.06 2.06-.94-2.06-.94L8.5 2.5l-.94 2.06-2.06.94zm10 10l.94 2.06.94-2.06 2.06-.94-2.06-.94-.94-2.06-.94 2.06-2.06.94z\"/><path d=\"M17.41 7.96l-1.37-1.37c-.4-.4-.92-.59-1.43-.59-.52 0-1.04.2-1.43.59L10.3 9.45l-7.72 7.72c-.78.78-.78 2.05 0 2.83L4 21.41c.39.39.9.59 1.41.59.51 0 1.02-.2 1.41-.59l7.78-7.78 2.81-2.81c.8-.78.8-2.07 0-2.86zM5.41 20L4 18.59l7.72-7.72 1.47 1.35L5.41 20z\"/>\n",
       "  </svg>\n",
       "      </button>\n",
       "      \n",
       "  <style>\n",
       "    .colab-df-container {\n",
       "      display:flex;\n",
       "      flex-wrap:wrap;\n",
       "      gap: 12px;\n",
       "    }\n",
       "\n",
       "    .colab-df-convert {\n",
       "      background-color: #E8F0FE;\n",
       "      border: none;\n",
       "      border-radius: 50%;\n",
       "      cursor: pointer;\n",
       "      display: none;\n",
       "      fill: #1967D2;\n",
       "      height: 32px;\n",
       "      padding: 0 0 0 0;\n",
       "      width: 32px;\n",
       "    }\n",
       "\n",
       "    .colab-df-convert:hover {\n",
       "      background-color: #E2EBFA;\n",
       "      box-shadow: 0px 1px 2px rgba(60, 64, 67, 0.3), 0px 1px 3px 1px rgba(60, 64, 67, 0.15);\n",
       "      fill: #174EA6;\n",
       "    }\n",
       "\n",
       "    [theme=dark] .colab-df-convert {\n",
       "      background-color: #3B4455;\n",
       "      fill: #D2E3FC;\n",
       "    }\n",
       "\n",
       "    [theme=dark] .colab-df-convert:hover {\n",
       "      background-color: #434B5C;\n",
       "      box-shadow: 0px 1px 3px 1px rgba(0, 0, 0, 0.15);\n",
       "      filter: drop-shadow(0px 1px 2px rgba(0, 0, 0, 0.3));\n",
       "      fill: #FFFFFF;\n",
       "    }\n",
       "  </style>\n",
       "\n",
       "      <script>\n",
       "        const buttonEl =\n",
       "          document.querySelector('#df-255c405f-64f5-41cd-a4c7-3a04505ef698 button.colab-df-convert');\n",
       "        buttonEl.style.display =\n",
       "          google.colab.kernel.accessAllowed ? 'block' : 'none';\n",
       "\n",
       "        async function convertToInteractive(key) {\n",
       "          const element = document.querySelector('#df-255c405f-64f5-41cd-a4c7-3a04505ef698');\n",
       "          const dataTable =\n",
       "            await google.colab.kernel.invokeFunction('convertToInteractive',\n",
       "                                                     [key], {});\n",
       "          if (!dataTable) return;\n",
       "\n",
       "          const docLinkHtml = 'Like what you see? Visit the ' +\n",
       "            '<a target=\"_blank\" href=https://colab.research.google.com/notebooks/data_table.ipynb>data table notebook</a>'\n",
       "            + ' to learn more about interactive tables.';\n",
       "          element.innerHTML = '';\n",
       "          dataTable['output_type'] = 'display_data';\n",
       "          await google.colab.output.renderOutput(dataTable, element);\n",
       "          const docLink = document.createElement('div');\n",
       "          docLink.innerHTML = docLinkHtml;\n",
       "          element.appendChild(docLink);\n",
       "        }\n",
       "      </script>\n",
       "    </div>\n",
       "  </div>\n",
       "  "
      ],
      "text/plain": [
       "        season  team_1  team_2  home  score_diff  score_1  score_2  won\n",
       "159772    1985    4941    2340     1         -13       73       86    0\n",
       "223891    2001    3727   10734     0          -3       73       76    0\n",
       "198237    1995    2384    8449     0         -13       77       90    0\n",
       "99976     2008    1471    8685     1           8       74       66    1\n",
       "153381    2018    6829     355     0           4       76       72    1"
      ]
     },
     "execution_count": 8,
     "metadata": {},
     "output_type": "execute_result"
    }
   ],
   "source": [
    "games_season = pd.read_csv('/content/games_season.csv')\n",
    "games_season.sample(5)"
   ]
  },
  {
   "cell_type": "code",
   "execution_count": 9,
   "metadata": {
    "colab": {
     "base_uri": "https://localhost:8080/"
    },
    "id": "ttmV8nRMgwYK",
    "outputId": "f387f610-4b60-4a52-86f8-0453647cc771"
   },
   "outputs": [
    {
     "name": "stdout",
     "output_type": "stream",
     "text": [
      "10888\n"
     ]
    }
   ],
   "source": [
    "# In this lesson, you will learn how to use those team IDs as inputs to a model that learns the strength of each team. \n",
    "unique_teams_ids = len(pd.unique(games_season['team_1']))\n",
    "\n",
    "print(unique_teams_ids)"
   ]
  },
  {
   "cell_type": "code",
   "execution_count": 10,
   "metadata": {
    "colab": {
     "base_uri": "https://localhost:8080/"
    },
    "id": "kVM7lPRNs6UW",
    "outputId": "fbdc8829-f070-4d46-e6ec-5de3ee05da37"
   },
   "outputs": [
    {
     "name": "stdout",
     "output_type": "stream",
     "text": [
      "Model: \"model_1\"\n",
      "_________________________________________________________________\n",
      " Layer (type)                Output Shape              Param #   \n",
      "=================================================================\n",
      " input_4 (InputLayer)        [(None, 1)]               0         \n",
      "                                                                 \n",
      " Team-Strenght-lookup (Embed  (None, 1, 1)             10888     \n",
      " ding)                                                           \n",
      "                                                                 \n",
      " flatten (Flatten)           (None, 1)                 0         \n",
      "                                                                 \n",
      "=================================================================\n",
      "Total params: 10,888\n",
      "Trainable params: 10,888\n",
      "Non-trainable params: 0\n",
      "_________________________________________________________________\n"
     ]
    }
   ],
   "source": [
    "from keras.layers import Embedding, Flatten\n",
    "# Notice that our embedding layer has about 11,000 parameters to learn\n",
    "\n",
    "input_tensor = Input((1, ))\n",
    "embed_layer = Embedding(input_dim = unique_teams_ids,\n",
    "                        input_length = 1,\n",
    "                        output_dim = 1,\n",
    "                        name = 'Team-Strenght-lookup')\n",
    "\n",
    "embed_tensor = embed_layer(input_tensor)\n",
    "flatten_tensor = Flatten()(embed_tensor)\n",
    "out_layer = Dense(1, activation='relu')(flatten_tensor)\n",
    "team_strength_model = Model(input_tensor, flatten_tensor)\n",
    "team_strength_model.summary()"
   ]
  },
  {
   "cell_type": "code",
   "execution_count": 11,
   "metadata": {
    "colab": {
     "base_uri": "https://localhost:8080/"
    },
    "id": "0Id97HIcySAq",
    "outputId": "efb68174-afa1-454f-e5d2-cfb15ff4e7ac"
   },
   "outputs": [
    {
     "name": "stdout",
     "output_type": "stream",
     "text": [
      "9756/9756 [==============================] - 25s 3ms/step - loss: 5702437.0000\n"
     ]
    },
    {
     "data": {
      "text/plain": [
       "<keras.callbacks.History at 0x7f64ad0f0710>"
      ]
     },
     "execution_count": 11,
     "metadata": {},
     "output_type": "execute_result"
    }
   ],
   "source": [
    "model.compile(optimizer = 'adam', loss='mse')\n",
    "model.fit(games_season['team_1'], games_season['won'])"
   ]
  },
  {
   "cell_type": "code",
   "execution_count": 12,
   "metadata": {
    "colab": {
     "base_uri": "https://localhost:8080/"
    },
    "id": "lH3Ky99V3ZuV",
    "outputId": "20fe6f0c-9888-4d94-a0ec-f0cdafd348f0"
   },
   "outputs": [
    {
     "data": {
      "text/plain": [
       "array([[0.17232192]], dtype=float32)"
      ]
     },
     "execution_count": 12,
     "metadata": {},
     "output_type": "execute_result"
    }
   ],
   "source": [
    "model.predict([9964])"
   ]
  },
  {
   "cell_type": "markdown",
   "metadata": {
    "id": "McaOfVpN50Ns"
   },
   "source": [
    "### Shared layers"
   ]
  },
  {
   "cell_type": "code",
   "execution_count": 13,
   "metadata": {
    "id": "FK9phx2y8x5l"
   },
   "outputs": [],
   "source": [
    "# Tow inputs to the same layer\n",
    "input_tensor_1 = Input((1,))\n",
    "input_tensor_2 = Input((1,))\n",
    "\n",
    "shared_layer = Dense(1)\n",
    "\n",
    "output_tensor_1 = shared_layer(input_tensor_1)\n",
    "output_tensor_2 = shared_layer(input_tensor_2)\n",
    "\n",
    "model_1 = Model(input_tensor_1, output_tensor_1)"
   ]
  },
  {
   "cell_type": "code",
   "execution_count": 14,
   "metadata": {
    "id": "xXiCOjvn4Tmv"
   },
   "outputs": [],
   "source": [
    "# You will create a model with two inputs: one for each team in the basketball dataset.\n",
    "# Load the input layer from keras.layers\n",
    "from keras.layers import Input\n",
    "\n",
    "# Input layer for team 1\n",
    "team_in_1 = Input(shape=(1,), name='Team-1-In')\n",
    "\n",
    "# Separate input layer for team 2\n",
    "team_in_2 = Input(shape=(1,), name='Team-2-In')"
   ]
  },
  {
   "cell_type": "code",
   "execution_count": 15,
   "metadata": {
    "id": "KVaTMgcN8KCS"
   },
   "outputs": [],
   "source": [
    "team_1_strength = model(team_in_1)\n",
    "team_2_strength = model(team_in_2)"
   ]
  },
  {
   "cell_type": "markdown",
   "metadata": {
    "id": "xO2zId998nof"
   },
   "source": [
    "### Merge layers"
   ]
  },
  {
   "cell_type": "code",
   "execution_count": 16,
   "metadata": {
    "id": "-Yf9M3Jg-ggo"
   },
   "outputs": [],
   "source": [
    "# To compine two input layers to predicta single output we need merge layer\n",
    "from keras.layers import Add\n",
    "\n",
    "input_tensor_3 = Input((1,))\n",
    "# Note that all of the inputs are required to have the same shape, so they can be combined element-wise. The Subtract and Multiply layers work the same way. \n",
    "out_tensor = Add()([input_tensor_1, input_tensor_2, input_tensor_3])\n",
    "\n",
    "model = Model([input_tensor_1, input_tensor_2, input_tensor_3], out_tensor)"
   ]
  },
  {
   "cell_type": "code",
   "execution_count": 17,
   "metadata": {
    "id": "ufDrzdoXCHZN"
   },
   "outputs": [],
   "source": [
    "model.compile(optimizer='adam', loss='mae')"
   ]
  },
  {
   "cell_type": "code",
   "execution_count": 18,
   "metadata": {
    "colab": {
     "base_uri": "https://localhost:8080/"
    },
    "id": "WcScG9RDFoFS",
    "outputId": "a5886013-57a1-4c87-de33-e82db6c48698"
   },
   "outputs": [
    {
     "name": "stdout",
     "output_type": "stream",
     "text": [
      "9756/9756 [==============================] - 11s 1ms/step - loss: 140.9109\n"
     ]
    },
    {
     "data": {
      "text/plain": [
       "<keras.callbacks.History at 0x7f64ad00e450>"
      ]
     },
     "execution_count": 18,
     "metadata": {},
     "output_type": "execute_result"
    }
   ],
   "source": [
    "model.fit([games_season['score_diff'], games_season['score_1'], games_season['score_2']], games_season['won'])"
   ]
  },
  {
   "cell_type": "code",
   "execution_count": 19,
   "metadata": {
    "colab": {
     "base_uri": "https://localhost:8080/"
    },
    "id": "HK6UV9yAGeo2",
    "outputId": "927e2ef3-3fc2-482c-c5a8-a073c982a2f5"
   },
   "outputs": [
    {
     "data": {
      "text/plain": [
       "array([[6.]], dtype=float32)"
      ]
     },
     "execution_count": 19,
     "metadata": {},
     "output_type": "execute_result"
    }
   ],
   "source": [
    "import numpy as np\n",
    "model.predict([np.array([[1]]),\n",
    "              np.array([[2]]),\n",
    "              np.array([[3]])])"
   ]
  },
  {
   "cell_type": "code",
   "execution_count": 20,
   "metadata": {
    "colab": {
     "base_uri": "https://localhost:8080/"
    },
    "id": "3uQFRC9MILW7",
    "outputId": "6bc9d329-3fae-4297-a2fb-7bc56118c969"
   },
   "outputs": [
    {
     "name": "stdout",
     "output_type": "stream",
     "text": [
      "1/1 [==============================] - 0s 73ms/step - loss: 0.0000e+00\n"
     ]
    },
    {
     "data": {
      "text/plain": [
       "0.0"
      ]
     },
     "execution_count": 20,
     "metadata": {},
     "output_type": "execute_result"
    }
   ],
   "source": [
    "model.evaluate([np.array([[-1]]),\n",
    "              np.array([[-2]]),\n",
    "              np.array([[-3]])], np.array([[-6]]))"
   ]
  },
  {
   "cell_type": "code",
   "execution_count": 21,
   "metadata": {
    "colab": {
     "base_uri": "https://localhost:8080/"
    },
    "id": "BF57DdihJQ3q",
    "outputId": "28d82699-5806-49df-9df6-c412a7bc4a15"
   },
   "outputs": [
    {
     "name": "stdout",
     "output_type": "stream",
     "text": [
      "153/153 [==============================] - 0s 1ms/step - loss: 10901.5576\n"
     ]
    },
    {
     "data": {
      "text/plain": [
       "<keras.callbacks.History at 0x7f64acfc1b90>"
      ]
     },
     "execution_count": 21,
     "metadata": {},
     "output_type": "execute_result"
    }
   ],
   "source": [
    "in_tensor_1 = Input((1,))\n",
    "in_tensor_2 = Input((1,))\n",
    "\n",
    "out_layer = Add()\n",
    "out_tensor = out_layer([in_tensor_1, in_tensor_2])\n",
    "model = Model([in_tensor_1, in_tensor_2], out_tensor)\n",
    "model.compile(optimizer='adam', loss='mae')\n",
    "model.fit([games_season['team_1'], games_season['team_2']], games_season['score_diff'], epochs=1, batch_size=2048, verbose=True)"
   ]
  },
  {
   "cell_type": "code",
   "execution_count": 22,
   "metadata": {
    "colab": {
     "base_uri": "https://localhost:8080/"
    },
    "id": "K8FmC9RULMmQ",
    "outputId": "8ba17862-0d02-4a6e-b648-81e655ac37e8"
   },
   "outputs": [
    {
     "name": "stdout",
     "output_type": "stream",
     "text": [
      "11178.2919921875\n"
     ]
    }
   ],
   "source": [
    "print(model.evaluate([games['team_1'], games['team_2']], games['score_diff'], verbose=False))"
   ]
  },
  {
   "cell_type": "markdown",
   "metadata": {
    "id": "h1uJDdJcNInc"
   },
   "source": [
    "### Three-input models"
   ]
  },
  {
   "cell_type": "code",
   "execution_count": 23,
   "metadata": {
    "id": "yU3RM9_4N93O"
   },
   "outputs": [],
   "source": [
    "from keras.layers import Concatenate\n",
    "\n",
    "in_1_tensor = Input((1,))\n",
    "in_2_tensor = Input((1,))\n",
    "in_3_tensor = Input((1,))\n",
    "\n",
    "out_tensor = Concatenate()([in_1_tensor, in_2_tensor, in_3_tensor])\n",
    "output_tensor =  Dense(1)(out_tensor)\n",
    "model = Model([in_1_tensor, in_2_tensor, in_3_tensor], output_tensor)"
   ]
  },
  {
   "cell_type": "markdown",
   "metadata": {
    "id": "rfFoAgpYStlB"
   },
   "source": [
    "### Shared layers with 3 inputs"
   ]
  },
  {
   "cell_type": "code",
   "execution_count": 24,
   "metadata": {
    "id": "_jlvI1EpPyji"
   },
   "outputs": [],
   "source": [
    "in_1_tensor = Input((1,))\n",
    "in_2_tensor = Input((1,))\n",
    "in_3_tensor = Input((1,))\n",
    "\n",
    "# These two features we are applying ambedding step to them \n",
    "team_1_strength = team_strength_model(in_1_tensor)\n",
    "team_2_strength = team_strength_model(in_2_tensor)\n",
    "\n",
    "out_tensor = Concatenate()([team_1_strength, team_2_strength, in_3_tensor])\n",
    "out_tensor = Dense(1)(out_tensor)\n",
    "model = Model([in_1_tensor, in_2_tensor, in_3_tensor], out_tensor)\n",
    "model.compile(optimizer='sgd', loss='mae')"
   ]
  },
  {
   "cell_type": "code",
   "execution_count": 25,
   "metadata": {
    "colab": {
     "base_uri": "https://localhost:8080/"
    },
    "id": "Jc74eDigRcCe",
    "outputId": "8fb4c612-033f-4702-8548-9c967341db2d"
   },
   "outputs": [
    {
     "name": "stdout",
     "output_type": "stream",
     "text": [
      "153/153 [==============================] - 1s 2ms/step - loss: 12.0653\n"
     ]
    },
    {
     "data": {
      "text/plain": [
       "<keras.callbacks.History at 0x7f6422895110>"
      ]
     },
     "execution_count": 25,
     "metadata": {},
     "output_type": "execute_result"
    }
   ],
   "source": [
    "model.fit([games_season['team_1'], games_season['team_2'], games_season['home']], games_season['score_diff'], epochs=1, batch_size=2048, verbose=True)"
   ]
  },
  {
   "cell_type": "code",
   "execution_count": 26,
   "metadata": {
    "colab": {
     "base_uri": "https://localhost:8080/"
    },
    "id": "TetYaZV9TJqQ",
    "outputId": "c393c12d-f7ec-4ff7-ddf9-3a3142438c05"
   },
   "outputs": [
    {
     "data": {
      "text/plain": [
       "11.689016342163086"
      ]
     },
     "execution_count": 26,
     "metadata": {},
     "output_type": "execute_result"
    }
   ],
   "source": [
    "model.evaluate([games['team_1'], games['team_2'], games['home']],\n",
    "               games['score_diff'], verbose=False)"
   ]
  },
  {
   "cell_type": "markdown",
   "metadata": {
    "id": "xySF-lw6X2jQ"
   },
   "source": [
    "### Summarizing and plotting models"
   ]
  },
  {
   "cell_type": "markdown",
   "metadata": {
    "id": "5yAdDUSx2t51"
   },
   "source": [
    "###### A model's trainable parameters are usually in it's Dense layers<br>\n",
    "######  It's important to remember that embedding layers often add a very large number of trainable parameters to a model."
   ]
  },
  {
   "cell_type": "code",
   "execution_count": 27,
   "metadata": {
    "colab": {
     "base_uri": "https://localhost:8080/"
    },
    "id": "KSvMsZ9f6P6H",
    "outputId": "6eecc8b5-353a-420b-97ba-7cee33dfe97b"
   },
   "outputs": [
    {
     "name": "stdout",
     "output_type": "stream",
     "text": [
      "Model: \"model_6\"\n",
      "__________________________________________________________________________________________________\n",
      " Layer (type)                   Output Shape         Param #     Connected to                     \n",
      "==================================================================================================\n",
      " input_13 (InputLayer)          [(None, 1)]          0           []                               \n",
      "                                                                                                  \n",
      " input_14 (InputLayer)          [(None, 1)]          0           []                               \n",
      "                                                                                                  \n",
      " model_1 (Functional)           (None, 1)            10888       ['input_13[0][0]',               \n",
      "                                                                  'input_14[0][0]']               \n",
      "                                                                                                  \n",
      " input_15 (InputLayer)          [(None, 1)]          0           []                               \n",
      "                                                                                                  \n",
      " concatenate_1 (Concatenate)    (None, 3)            0           ['model_1[0][0]',                \n",
      "                                                                  'model_1[1][0]',                \n",
      "                                                                  'input_15[0][0]']               \n",
      "                                                                                                  \n",
      " dense_5 (Dense)                (None, 1)            4           ['concatenate_1[0][0]']          \n",
      "                                                                                                  \n",
      "==================================================================================================\n",
      "Total params: 10,892\n",
      "Trainable params: 10,892\n",
      "Non-trainable params: 0\n",
      "__________________________________________________________________________________________________\n"
     ]
    }
   ],
   "source": [
    "model.summary()"
   ]
  },
  {
   "cell_type": "code",
   "execution_count": 28,
   "metadata": {
    "colab": {
     "base_uri": "https://localhost:8080/",
     "height": 269
    },
    "id": "xXsoTDz73nOL",
    "outputId": "d51cf49d-026f-4595-e5b5-77d757ee0aa2"
   },
   "outputs": [
    {
     "data": {
      "image/png": "[encoded data removed]",
      "text/plain": [
       "<Figure size 432x288 with 1 Axes>"
      ]
     },
     "metadata": {
      "needs_background": "light"
     },
     "output_type": "display_data"
    }
   ],
   "source": [
    "# Plot the model\n",
    "plot_model(model, to_file='model.png')\n",
    "\n",
    "# Display the image\n",
    "data = plt.imread('model.png')\n",
    "plt.imshow(data)\n",
    "plt.show()"
   ]
  },
  {
   "cell_type": "markdown",
   "metadata": {
    "id": "SsP0N6bY5XFY"
   },
   "source": [
    "### Stacking models\n",
    "**using the predictions from one model as an input to another model**"
   ]
  },
  {
   "cell_type": "code",
   "execution_count": 29,
   "metadata": {
    "colab": {
     "base_uri": "https://localhost:8080/"
    },
    "id": "xmYrxIPm__j6",
    "outputId": "059e7026-b58f-414f-ed88-f6eb36dc5ee3"
   },
   "outputs": [
    {
     "name": "stdout",
     "output_type": "stream",
     "text": [
      "133/133 [==============================] - 0s 1ms/step - loss: 12.5426\n",
      "12.283431053161621\n"
     ]
    }
   ],
   "source": [
    "# Add the predictions of games_tourney from the games_season model.\n",
    "games['pred'] = model.predict([games['team_1'], games['team_2'], games['home']])\n",
    "\n",
    "input_tensor = Input((3,))\n",
    "output_tensor = Dense(1)(input_tensor)\n",
    "model = Model(input_tensor, output_tensor)\n",
    "\n",
    "model.compile(optimizer='adam', loss='mean_absolute_error')\n",
    "\n",
    "# While fitting the model using the games_tourney data we will not fit using team_1 and team_2 because they are already extracted from games_season model and added to games_tourney data as pred column\n",
    "model.fit(games[['home', 'seed_diff', 'pred']],\n",
    "          games['score_diff'],\n",
    "          epochs=1,\n",
    "          verbose=True)\n",
    "\n",
    "print(model.evaluate(games[['home', 'seed_diff', 'pred']],\n",
    "               games['score_diff'], verbose=False))"
   ]
  },
  {
   "cell_type": "markdown",
   "metadata": {
    "id": "aqe8x-o5Lgh1"
   },
   "source": [
    "### Multiple Outputs"
   ]
  },
  {
   "cell_type": "code",
   "execution_count": 30,
   "metadata": {
    "colab": {
     "base_uri": "https://localhost:8080/"
    },
    "id": "o0Z5hB9aVQIg",
    "outputId": "36dc6d5f-3c5f-4668-a9d0-7cf55fa15b45"
   },
   "outputs": [
    {
     "name": "stdout",
     "output_type": "stream",
     "text": [
      "Epoch 1/100\n",
      "1/1 [==============================] - 0s 298ms/step - loss: 71.1313\n",
      "Epoch 2/100\n",
      "1/1 [==============================] - 0s 7ms/step - loss: 71.1303\n",
      "Epoch 3/100\n",
      "1/1 [==============================] - 0s 7ms/step - loss: 71.1293\n",
      "Epoch 4/100\n",
      "1/1 [==============================] - 0s 5ms/step - loss: 71.1283\n",
      "Epoch 5/100\n",
      "1/1 [==============================] - 0s 5ms/step - loss: 71.1273\n",
      "Epoch 6/100\n",
      "1/1 [==============================] - 0s 6ms/step - loss: 71.1263\n",
      "Epoch 7/100\n",
      "1/1 [==============================] - 0s 6ms/step - loss: 71.1253\n",
      "Epoch 8/100\n",
      "1/1 [==============================] - 0s 14ms/step - loss: 71.1243\n",
      "Epoch 9/100\n",
      "1/1 [==============================] - 0s 12ms/step - loss: 71.1233\n",
      "Epoch 10/100\n",
      "1/1 [==============================] - 0s 8ms/step - loss: 71.1223\n",
      "Epoch 11/100\n",
      "1/1 [==============================] - 0s 15ms/step - loss: 71.1213\n",
      "Epoch 12/100\n",
      "1/1 [==============================] - 0s 11ms/step - loss: 71.1203\n",
      "Epoch 13/100\n",
      "1/1 [==============================] - 0s 9ms/step - loss: 71.1193\n",
      "Epoch 14/100\n",
      "1/1 [==============================] - 0s 9ms/step - loss: 71.1183\n",
      "Epoch 15/100\n",
      "1/1 [==============================] - 0s 12ms/step - loss: 71.1173\n",
      "Epoch 16/100\n",
      "1/1 [==============================] - 0s 12ms/step - loss: 71.1163\n",
      "Epoch 17/100\n",
      "1/1 [==============================] - 0s 10ms/step - loss: 71.1153\n",
      "Epoch 18/100\n",
      "1/1 [==============================] - 0s 8ms/step - loss: 71.1143\n",
      "Epoch 19/100\n",
      "1/1 [==============================] - 0s 7ms/step - loss: 71.1133\n",
      "Epoch 20/100\n",
      "1/1 [==============================] - 0s 10ms/step - loss: 71.1123\n",
      "Epoch 21/100\n",
      "1/1 [==============================] - 0s 8ms/step - loss: 71.1113\n",
      "Epoch 22/100\n",
      "1/1 [==============================] - 0s 8ms/step - loss: 71.1103\n",
      "Epoch 23/100\n",
      "1/1 [==============================] - 0s 8ms/step - loss: 71.1093\n",
      "Epoch 24/100\n",
      "1/1 [==============================] - 0s 12ms/step - loss: 71.1083\n",
      "Epoch 25/100\n",
      "1/1 [==============================] - 0s 7ms/step - loss: 71.1073\n",
      "Epoch 26/100\n",
      "1/1 [==============================] - 0s 7ms/step - loss: 71.1063\n",
      "Epoch 27/100\n",
      "1/1 [==============================] - 0s 12ms/step - loss: 71.1053\n",
      "Epoch 28/100\n",
      "1/1 [==============================] - 0s 8ms/step - loss: 71.1043\n",
      "Epoch 29/100\n",
      "1/1 [==============================] - 0s 6ms/step - loss: 71.1033\n",
      "Epoch 30/100\n",
      "1/1 [==============================] - 0s 6ms/step - loss: 71.1023\n",
      "Epoch 31/100\n",
      "1/1 [==============================] - 0s 6ms/step - loss: 71.1013\n",
      "Epoch 32/100\n",
      "1/1 [==============================] - 0s 7ms/step - loss: 71.1003\n",
      "Epoch 33/100\n",
      "1/1 [==============================] - 0s 8ms/step - loss: 71.0993\n",
      "Epoch 34/100\n",
      "1/1 [==============================] - 0s 6ms/step - loss: 71.0983\n",
      "Epoch 35/100\n",
      "1/1 [==============================] - 0s 12ms/step - loss: 71.0973\n",
      "Epoch 36/100\n",
      "1/1 [==============================] - 0s 12ms/step - loss: 71.0963\n",
      "Epoch 37/100\n",
      "1/1 [==============================] - 0s 9ms/step - loss: 71.0953\n",
      "Epoch 38/100\n",
      "1/1 [==============================] - 0s 15ms/step - loss: 71.0943\n",
      "Epoch 39/100\n",
      "1/1 [==============================] - 0s 7ms/step - loss: 71.0933\n",
      "Epoch 40/100\n",
      "1/1 [==============================] - 0s 6ms/step - loss: 71.0923\n",
      "Epoch 41/100\n",
      "1/1 [==============================] - 0s 6ms/step - loss: 71.0913\n",
      "Epoch 42/100\n",
      "1/1 [==============================] - 0s 7ms/step - loss: 71.0903\n",
      "Epoch 43/100\n",
      "1/1 [==============================] - 0s 10ms/step - loss: 71.0893\n",
      "Epoch 44/100\n",
      "1/1 [==============================] - 0s 7ms/step - loss: 71.0883\n",
      "Epoch 45/100\n",
      "1/1 [==============================] - 0s 6ms/step - loss: 71.0873\n",
      "Epoch 46/100\n",
      "1/1 [==============================] - 0s 6ms/step - loss: 71.0863\n",
      "Epoch 47/100\n",
      "1/1 [==============================] - 0s 7ms/step - loss: 71.0853\n",
      "Epoch 48/100\n",
      "1/1 [==============================] - 0s 7ms/step - loss: 71.0843\n",
      "Epoch 49/100\n",
      "1/1 [==============================] - 0s 6ms/step - loss: 71.0833\n",
      "Epoch 50/100\n",
      "1/1 [==============================] - 0s 7ms/step - loss: 71.0823\n",
      "Epoch 51/100\n",
      "1/1 [==============================] - 0s 7ms/step - loss: 71.0813\n",
      "Epoch 52/100\n",
      "1/1 [==============================] - 0s 7ms/step - loss: 71.0803\n",
      "Epoch 53/100\n",
      "1/1 [==============================] - 0s 6ms/step - loss: 71.0793\n",
      "Epoch 54/100\n",
      "1/1 [==============================] - 0s 6ms/step - loss: 71.0783\n",
      "Epoch 55/100\n",
      "1/1 [==============================] - 0s 6ms/step - loss: 71.0773\n",
      "Epoch 56/100\n",
      "1/1 [==============================] - 0s 8ms/step - loss: 71.0763\n",
      "Epoch 57/100\n",
      "1/1 [==============================] - 0s 6ms/step - loss: 71.0753\n",
      "Epoch 58/100\n",
      "1/1 [==============================] - 0s 6ms/step - loss: 71.0743\n",
      "Epoch 59/100\n",
      "1/1 [==============================] - 0s 6ms/step - loss: 71.0733\n",
      "Epoch 60/100\n",
      "1/1 [==============================] - 0s 6ms/step - loss: 71.0723\n",
      "Epoch 61/100\n",
      "1/1 [==============================] - 0s 5ms/step - loss: 71.0713\n",
      "Epoch 62/100\n",
      "1/1 [==============================] - 0s 6ms/step - loss: 71.0703\n",
      "Epoch 63/100\n",
      "1/1 [==============================] - 0s 6ms/step - loss: 71.0693\n",
      "Epoch 64/100\n",
      "1/1 [==============================] - 0s 6ms/step - loss: 71.0683\n",
      "Epoch 65/100\n",
      "1/1 [==============================] - 0s 6ms/step - loss: 71.0673\n",
      "Epoch 66/100\n",
      "1/1 [==============================] - 0s 6ms/step - loss: 71.0663\n",
      "Epoch 67/100\n",
      "1/1 [==============================] - 0s 7ms/step - loss: 71.0653\n",
      "Epoch 68/100\n",
      "1/1 [==============================] - 0s 7ms/step - loss: 71.0643\n",
      "Epoch 69/100\n",
      "1/1 [==============================] - 0s 7ms/step - loss: 71.0633\n",
      "Epoch 70/100\n",
      "1/1 [==============================] - 0s 8ms/step - loss: 71.0623\n",
      "Epoch 71/100\n",
      "1/1 [==============================] - 0s 11ms/step - loss: 71.0613\n",
      "Epoch 72/100\n",
      "1/1 [==============================] - 0s 7ms/step - loss: 71.0603\n",
      "Epoch 73/100\n",
      "1/1 [==============================] - 0s 6ms/step - loss: 71.0593\n",
      "Epoch 74/100\n",
      "1/1 [==============================] - 0s 13ms/step - loss: 71.0583\n",
      "Epoch 75/100\n",
      "1/1 [==============================] - 0s 9ms/step - loss: 71.0573\n",
      "Epoch 76/100\n",
      "1/1 [==============================] - 0s 8ms/step - loss: 71.0563\n",
      "Epoch 77/100\n",
      "1/1 [==============================] - 0s 7ms/step - loss: 71.0553\n",
      "Epoch 78/100\n",
      "1/1 [==============================] - 0s 7ms/step - loss: 71.0543\n",
      "Epoch 79/100\n",
      "1/1 [==============================] - 0s 7ms/step - loss: 71.0533\n",
      "Epoch 80/100\n",
      "1/1 [==============================] - 0s 7ms/step - loss: 71.0523\n",
      "Epoch 81/100\n",
      "1/1 [==============================] - 0s 8ms/step - loss: 71.0513\n",
      "Epoch 82/100\n",
      "1/1 [==============================] - 0s 10ms/step - loss: 71.0503\n",
      "Epoch 83/100\n",
      "1/1 [==============================] - 0s 8ms/step - loss: 71.0493\n",
      "Epoch 84/100\n",
      "1/1 [==============================] - 0s 8ms/step - loss: 71.0483\n",
      "Epoch 85/100\n",
      "1/1 [==============================] - 0s 7ms/step - loss: 71.0473\n",
      "Epoch 86/100\n",
      "1/1 [==============================] - 0s 10ms/step - loss: 71.0463\n",
      "Epoch 87/100\n",
      "1/1 [==============================] - 0s 10ms/step - loss: 71.0453\n",
      "Epoch 88/100\n",
      "1/1 [==============================] - 0s 8ms/step - loss: 71.0443\n",
      "Epoch 89/100\n",
      "1/1 [==============================] - 0s 8ms/step - loss: 71.0433\n",
      "Epoch 90/100\n",
      "1/1 [==============================] - 0s 10ms/step - loss: 71.0423\n",
      "Epoch 91/100\n",
      "1/1 [==============================] - 0s 8ms/step - loss: 71.0413\n",
      "Epoch 92/100\n",
      "1/1 [==============================] - 0s 9ms/step - loss: 71.0403\n",
      "Epoch 93/100\n",
      "1/1 [==============================] - 0s 6ms/step - loss: 71.0393\n",
      "Epoch 94/100\n",
      "1/1 [==============================] - 0s 8ms/step - loss: 71.0383\n",
      "Epoch 95/100\n",
      "1/1 [==============================] - 0s 7ms/step - loss: 71.0373\n",
      "Epoch 96/100\n",
      "1/1 [==============================] - 0s 7ms/step - loss: 71.0363\n",
      "Epoch 97/100\n",
      "1/1 [==============================] - 0s 12ms/step - loss: 71.0353\n",
      "Epoch 98/100\n",
      "1/1 [==============================] - 0s 7ms/step - loss: 71.0343\n",
      "Epoch 99/100\n",
      "1/1 [==============================] - 0s 6ms/step - loss: 71.0333\n",
      "Epoch 100/100\n",
      "1/1 [==============================] - 0s 9ms/step - loss: 71.0323\n",
      "71.03128051757812\n"
     ]
    }
   ],
   "source": [
    "# Define the input\n",
    "input_tensor = Input((2, ))\n",
    "\n",
    "# Define the output\n",
    "output_tensor = Dense(2)(input_tensor)\n",
    "\n",
    "# Create a model\n",
    "model = Model(input_tensor, output_tensor)\n",
    "\n",
    "# Compile the model\n",
    "model.compile(optimizer='adam', loss='mean_absolute_error')\n",
    "\n",
    "model.fit(games[['seed_diff', 'pred']],\n",
    "  \t\t  games[['score_1', 'score_2']],\n",
    "  \t\t  verbose=True,\n",
    "          epochs=100,\n",
    "  \t\t  batch_size=16384)\n",
    "\n",
    "print(model.evaluate(games[['seed_diff', 'pred']],\n",
    "               games[['score_1', 'score_2']], verbose=False))"
   ]
  },
  {
   "cell_type": "markdown",
   "metadata": {
    "id": "uwkioHCJZFgS"
   },
   "source": [
    "### Single model for classification and regression"
   ]
  },
  {
   "cell_type": "code",
   "execution_count": 31,
   "metadata": {
    "id": "siyhCuMSZde5"
   },
   "outputs": [],
   "source": [
    "# Rather than using two regression outputs, We have a regression output and a classification output."
   ]
  },
  {
   "cell_type": "code",
   "execution_count": 32,
   "metadata": {
    "id": "4pE3DDmYZdc2"
   },
   "outputs": [],
   "source": [
    "# Create an input layer with 2 columns\n",
    "input_tensor = Input((2,))\n",
    "\n",
    "# Create the first output(FOR REGRESSION OUTPUT)\n",
    "output_tensor_1 = Dense(1, activation='linear', use_bias=False)(input_tensor)\n",
    "\n",
    "# Create the second output (use the first output as input here)(FOR CLASSIFICATION OUTPUT)\n",
    "output_tensor_2 = Dense(1, activation='sigmoid', use_bias=False)(output_tensor_1)\n",
    "\n",
    "# Create a model with 2 outputs\n",
    "model = Model(input_tensor, [output_tensor_1, output_tensor_2])"
   ]
  },
  {
   "cell_type": "code",
   "execution_count": 33,
   "metadata": {
    "colab": {
     "base_uri": "https://localhost:8080/"
    },
    "id": "bI7yChSaf1QC",
    "outputId": "fff6e862-937d-41a4-878e-bc6bac6b4f84"
   },
   "outputs": [
    {
     "name": "stdout",
     "output_type": "stream",
     "text": [
      "Epoch 1/10\n",
      "1/1 [==============================] - 1s 565ms/step - loss: 26.3828 - dense_8_loss: 17.7294 - dense_9_loss: 8.6534\n",
      "Epoch 2/10\n",
      "1/1 [==============================] - 0s 9ms/step - loss: 26.1999 - dense_8_loss: 17.6765 - dense_9_loss: 8.5234\n",
      "Epoch 3/10\n",
      "1/1 [==============================] - 0s 8ms/step - loss: 26.0183 - dense_8_loss: 17.6238 - dense_9_loss: 8.3945\n",
      "Epoch 4/10\n",
      "1/1 [==============================] - 0s 8ms/step - loss: 25.8378 - dense_8_loss: 17.5712 - dense_9_loss: 8.2666\n",
      "Epoch 5/10\n",
      "1/1 [==============================] - 0s 9ms/step - loss: 25.6587 - dense_8_loss: 17.5189 - dense_9_loss: 8.1398\n",
      "Epoch 6/10\n",
      "1/1 [==============================] - 0s 8ms/step - loss: 25.4809 - dense_8_loss: 17.4668 - dense_9_loss: 8.0141\n",
      "Epoch 7/10\n",
      "1/1 [==============================] - 0s 9ms/step - loss: 25.3044 - dense_8_loss: 17.4149 - dense_9_loss: 7.8895\n",
      "Epoch 8/10\n",
      "1/1 [==============================] - 0s 8ms/step - loss: 25.1292 - dense_8_loss: 17.3632 - dense_9_loss: 7.7660\n",
      "Epoch 9/10\n",
      "1/1 [==============================] - 0s 8ms/step - loss: 24.9552 - dense_8_loss: 17.3115 - dense_9_loss: 7.6436\n",
      "Epoch 10/10\n",
      "1/1 [==============================] - 0s 12ms/step - loss: 24.7824 - dense_8_loss: 17.2600 - dense_9_loss: 7.5224\n"
     ]
    },
    {
     "data": {
      "text/plain": [
       "<keras.callbacks.History at 0x7f642637ac90>"
      ]
     },
     "execution_count": 33,
     "metadata": {},
     "output_type": "execute_result"
    }
   ],
   "source": [
    "# Import the Adam optimizer\n",
    "from tensorflow.keras.optimizers import Adam\n",
    "\n",
    "# Compile the model with 2 losses and the Adam optimzer with a higher learning rate\n",
    "model.compile(loss=['mean_absolute_error', 'binary_crossentropy'], optimizer=Adam(0.01))\n",
    "\n",
    "# Fit the model to the tournament training data, with 2 inputs and 2 outputs\n",
    "model.fit(games[['seed_diff', 'pred']],\n",
    "          [games[['score_diff']], games[['won']]],\n",
    "          epochs=10,\n",
    "          verbose=True,\n",
    "          batch_size=16384)"
   ]
  },
  {
   "cell_type": "code",
   "execution_count": 34,
   "metadata": {
    "colab": {
     "base_uri": "https://localhost:8080/"
    },
    "id": "h0ElgISpf1rk",
    "outputId": "8c6ddadf-ae45-47c7-9e23-dfcf40c4a02d"
   },
   "outputs": [
    {
     "name": "stdout",
     "output_type": "stream",
     "text": [
      "[24.61084747314453, 17.208532333374023, 7.402312278747559]\n"
     ]
    }
   ],
   "source": [
    "print(model.evaluate(games[['seed_diff', 'pred']],\n",
    "               [games[['score_diff']], games[['won']]], verbose=False))"
   ]
  },
  {
   "cell_type": "markdown",
   "metadata": {
    "id": "0BwSh28WhAfx"
   },
   "source": [
    "##### In academic research, shared models are known as \"siamese networks\", which are used to calculate things like document similarity, using shared embedding layer and a shared long-short-term memory layer (or LSTM layer), and then comparing the LSTM outputs."
   ]
  }
 ],
 "metadata": {
  "colab": {
   "collapsed_sections": [],
   "name": "Advanced Deep Learning with Keras_Part1.ipynb",
   "provenance": []
  },
  "kernelspec": {
   "display_name": "Python 3",
   "language": "python",
   "name": "python3"
  },
  "language_info": {
   "codemirror_mode": {
    "name": "ipython",
    "version": 3
   },
   "file_extension": ".py",
   "mimetype": "text/x-python",
   "name": "python",
   "nbconvert_exporter": "python",
   "pygments_lexer": "ipython3",
   "version": "3.8.5"
  }
 },
 "nbformat": 4,
 "nbformat_minor": 1
}

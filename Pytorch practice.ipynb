{
  "cells": [
    {
      "cell_type": "markdown",
      "source": [
        "# **This notebook contains:**\n",
        "- **Pytorch basic operation**\n",
        "- **Simulate Forward propagation**\n",
        "- **Backpropagation by auto-differentiation**\n",
        "- **Fully connected neural network**\n",
        "- **Activation Functions**\n",
        "- **Loss Function**\n",
        "- **Loading & Preparing a dataset in PyTorch**\n",
        "- **Training a neural network**\n",
        "- **Convolution operator**\n",
        "- **Pooling operators**\n",
        "- **Build CNN**\n",
        "- **Build AlexNet**"
      ],
      "metadata": {
        "id": "fN_Gb4bEvM2p"
      }
    },
    {
      "cell_type": "code",
      "execution_count": 1,
      "metadata": {
        "colab": {
          "base_uri": "https://localhost:8080/"
        },
        "id": "ch1nINRWMddq",
        "outputId": "4ab6f76f-ff1c-4579-b32b-90f108dd0a38"
      },
      "outputs": [
        {
          "output_type": "execute_result",
          "data": {
            "text/plain": [
              "tensor([[2, 3, 5],\n",
              "        [1, 2, 7]])"
            ]
          },
          "metadata": {},
          "execution_count": 1
        }
      ],
      "source": [
        "import torch\n",
        "# create torch tensor\n",
        "first_tensor = torch.tensor([[2, 3, 5], [1, 2, 7]])\n",
        "first_tensor"
      ]
    },
    {
      "cell_type": "code",
      "execution_count": 2,
      "metadata": {
        "colab": {
          "base_uri": "https://localhost:8080/"
        },
        "id": "pOlj3glLmVoz",
        "outputId": "4cbaa0bb-31e7-45e8-c9c7-9990a0306e64"
      },
      "outputs": [
        {
          "output_type": "execute_result",
          "data": {
            "text/plain": [
              "torch.Size([2, 3])"
            ]
          },
          "metadata": {},
          "execution_count": 2
        }
      ],
      "source": [
        "first_tensor.shape"
      ]
    },
    {
      "cell_type": "code",
      "execution_count": 3,
      "metadata": {
        "colab": {
          "base_uri": "https://localhost:8080/"
        },
        "id": "KHe69KCSMteu",
        "outputId": "af181559-cf87-41ac-941a-09270a2056ff"
      },
      "outputs": [
        {
          "output_type": "execute_result",
          "data": {
            "text/plain": [
              "array([[2, 3, 5],\n",
              "       [1, 2, 7]])"
            ]
          },
          "metadata": {},
          "execution_count": 3
        }
      ],
      "source": [
        "import numpy as np\n",
        "# create numpy array\n",
        "np.array([[2, 3, 5], [1, 2, 7]])"
      ]
    },
    {
      "cell_type": "code",
      "execution_count": 4,
      "metadata": {
        "colab": {
          "base_uri": "https://localhost:8080/"
        },
        "id": "HE6BCKMvMz6V",
        "outputId": "352c7fde-92ec-4df4-afb0-8ca3f535093c"
      },
      "outputs": [
        {
          "output_type": "stream",
          "name": "stdout",
          "text": [
            "Torch tensor:    tensor([[0.6990, 0.5702, 0.3873],\n",
            "        [0.1502, 0.4018, 0.0792]])\n",
            "Tensor shape:    torch.Size([2, 3]) \n",
            "\n",
            "Numpy array:    [[0.96179032 0.42804095]\n",
            " [0.79299382 0.57124486]]\n",
            "Array:   (2, 2)\n"
          ]
        }
      ],
      "source": [
        "t = torch.rand(2, 3)\n",
        "a = np.random.rand(2, 2)\n",
        "\n",
        "print('Torch tensor:   ', t)\n",
        "print('Tensor shape:   ', t.shape, '\\n')\n",
        "print('Numpy array:   ', a)\n",
        "print('Array:  ',a.shape)"
      ]
    },
    {
      "cell_type": "code",
      "execution_count": 5,
      "metadata": {
        "colab": {
          "base_uri": "https://localhost:8080/"
        },
        "id": "rDcUjt8yNGJ2",
        "outputId": "113f8cbb-9da8-4500-b0ab-3e760468e4fb"
      },
      "outputs": [
        {
          "output_type": "stream",
          "name": "stdout",
          "text": [
            "tensor([[0.2066],\n",
            "        [0.0769],\n",
            "        [0.1821]]) \n",
            "\n",
            "tensor([[0.2066],\n",
            "        [0.0769],\n",
            "        [0.1821]])\n"
          ]
        }
      ],
      "source": [
        "# tensor multiplication\n",
        "t1 = torch.rand(3, 2)\n",
        "t2 = torch.rand(2, 1)\n",
        "print(torch.matmul(t1, t2), '\\n')\n",
        "print(t1 @ t2)"
      ]
    },
    {
      "cell_type": "code",
      "source": [
        "t1 = torch.rand(3, 2)\n",
        "t2 = torch.rand(3, 2)\n",
        "print(t1 * t2)"
      ],
      "metadata": {
        "colab": {
          "base_uri": "https://localhost:8080/"
        },
        "id": "aIgPEbGPmjHm",
        "outputId": "05d9e2d1-11eb-48f6-d4d5-7272be856d1c"
      },
      "execution_count": 6,
      "outputs": [
        {
          "output_type": "stream",
          "name": "stdout",
          "text": [
            "tensor([[0.3926, 0.0774],\n",
            "        [0.2750, 0.0247],\n",
            "        [0.6042, 0.0652]])\n"
          ]
        }
      ]
    },
    {
      "cell_type": "code",
      "execution_count": 7,
      "metadata": {
        "colab": {
          "base_uri": "https://localhost:8080/"
        },
        "id": "Hlgs5gdwo5jj",
        "outputId": "6c0f7194-f128-4b88-bafb-3d44c3f458f9"
      },
      "outputs": [
        {
          "output_type": "stream",
          "name": "stdout",
          "text": [
            "tensor([[0., 0.],\n",
            "        [0., 0.]])\n",
            "[[0. 0.]\n",
            " [0. 0.]]\n"
          ]
        }
      ],
      "source": [
        "print(torch.zeros(2, 2))\n",
        "print(np.zeros((2, 2)))"
      ]
    },
    {
      "cell_type": "code",
      "execution_count": 8,
      "metadata": {
        "colab": {
          "base_uri": "https://localhost:8080/"
        },
        "id": "seJ0SpgwN4W3",
        "outputId": "6dc891d6-c059-471a-d135-56c6c7214e30"
      },
      "outputs": [
        {
          "output_type": "stream",
          "name": "stdout",
          "text": [
            "tensor([[1., 0.],\n",
            "        [0., 1.]])\n"
          ]
        }
      ],
      "source": [
        "print(torch.eye(2))"
      ]
    },
    {
      "cell_type": "code",
      "execution_count": 9,
      "metadata": {
        "colab": {
          "base_uri": "https://localhost:8080/"
        },
        "id": "OdAizGDzPB_c",
        "outputId": "e13dbe81-ca24-4a4c-9faf-8e75ec8ff5d4"
      },
      "outputs": [
        {
          "output_type": "stream",
          "name": "stdout",
          "text": [
            "[[1. 0.]\n",
            " [0. 1.]]\n"
          ]
        }
      ],
      "source": [
        "print(np.identity(2))"
      ]
    },
    {
      "cell_type": "code",
      "execution_count": 10,
      "metadata": {
        "colab": {
          "base_uri": "https://localhost:8080/"
        },
        "id": "ERJ4Q-IMPGoy",
        "outputId": "d916b645-2434-4475-fb7f-174394d085ca"
      },
      "outputs": [
        {
          "output_type": "stream",
          "name": "stdout",
          "text": [
            "<class 'torch.Tensor'>\n"
          ]
        }
      ],
      "source": [
        "# Convert from numpy array to torch tensor\n",
        "np_arr = np.array([[2,3], [5,3]])\n",
        "tt = torch.from_numpy(np_arr)\n",
        "print(type(tt))"
      ]
    },
    {
      "cell_type": "code",
      "execution_count": 11,
      "metadata": {
        "colab": {
          "base_uri": "https://localhost:8080/"
        },
        "id": "EElS0IpvpYqT",
        "outputId": "78cc4b8c-0a11-4751-9729-65cf1fdc4f16"
      },
      "outputs": [
        {
          "output_type": "stream",
          "name": "stdout",
          "text": [
            "<class 'numpy.ndarray'>\n"
          ]
        }
      ],
      "source": [
        "# Convert from torch tensor to numpy array\n",
        "tt = torch.tensor([[1, 7],\n",
        "                   [3, 0]])\n",
        "\n",
        "np_arr = tt.numpy()\n",
        "print(type(np_arr))"
      ]
    },
    {
      "cell_type": "markdown",
      "metadata": {
        "id": "IHuliC-pVLrJ"
      },
      "source": [
        "#### Simulate Forward propagation"
      ]
    },
    {
      "cell_type": "markdown",
      "metadata": {
        "id": "ThP1eh8xP-hC"
      },
      "source": [
        "\n",
        "<a href=\"https://assets.datacamp.com/production/repositories/4094/datasets/ab707279d7be2835c17787a38c6e2e54f6d89409/graph_exercise.jpg\">link text</a>\n"
      ]
    },
    {
      "cell_type": "code",
      "execution_count": 12,
      "metadata": {
        "colab": {
          "base_uri": "https://localhost:8080/"
        },
        "id": "uw2zkfcJTV1G",
        "outputId": "aa3cf9f7-3375-4c86-8d50-80605b4370d9"
      },
      "outputs": [
        {
          "output_type": "stream",
          "name": "stdout",
          "text": [
            "tensor([[195.3484, 105.8450, 220.1962,  ...,  90.0720,  34.4862,  23.8236],\n",
            "        [ 32.6357, 146.4996, 164.5282,  ...,  65.9381,  16.0391, 108.1882],\n",
            "        [185.7217, 143.6514, 238.8120,  ...,  59.0266, 154.9491, 134.7107],\n",
            "        ...,\n",
            "        [ 63.1591, 110.9097,  53.8669,  ...,  55.8070, 211.8040,  30.2908],\n",
            "        [162.6222, 226.2507, 234.1068,  ...,  53.0186,  71.7053, 202.5698],\n",
            "        [  0.7746,  78.2449, 226.1912,  ...,  84.3580,  42.3264, 165.2709]])\n",
            "tensor(124.7616)\n"
          ]
        }
      ],
      "source": [
        "# Initialize tensors x, y and z\n",
        "x = torch.rand(1000, 1000)\n",
        "y = torch.rand(1000, 1000)\n",
        "z = torch.rand(1000, 1000)\n",
        "\n",
        "# Multiply x with y\n",
        "q = torch.matmul(x, y)\n",
        "\n",
        "# Multiply elementwise z with q\n",
        "f = z * q\n",
        "\n",
        "mean_f = torch.mean(f)\n",
        "print(f)\n",
        "print(mean_f)"
      ]
    },
    {
      "cell_type": "markdown",
      "metadata": {
        "id": "v41IaphxW_eu"
      },
      "source": [
        "### Backpropagation by auto-differentiation"
      ]
    },
    {
      "cell_type": "code",
      "execution_count": 13,
      "metadata": {
        "colab": {
          "base_uri": "https://localhost:8080/"
        },
        "id": "UuUh168MXBG1",
        "outputId": "051633a0-830d-4e21-d7b8-86cf90c29d7f"
      },
      "outputs": [
        {
          "output_type": "stream",
          "name": "stdout",
          "text": [
            "Gradient of x is: tensor(5.)\n",
            "Gradient of y is: tensor(5.)\n",
            "Gradient of z is: tensor(1.)\n",
            "None\n"
          ]
        },
        {
          "output_type": "stream",
          "name": "stderr",
          "text": [
            "/usr/local/lib/python3.7/dist-packages/torch/_tensor.py:1013: UserWarning: The .grad attribute of a Tensor that is not a leaf Tensor is being accessed. Its .grad attribute won't be populated during autograd.backward(). If you indeed want the .grad field to be populated for a non-leaf Tensor, use .retain_grad() on the non-leaf Tensor. If you access the non-leaf Tensor by mistake, make sure you access the leaf Tensor instead. See github.com/pytorch/pytorch/pull/30531 for more informations. (Triggered internally at  aten/src/ATen/core/TensorBody.h:417.)\n",
            "  return self._grad\n"
          ]
        }
      ],
      "source": [
        "# Initialize x, y and z to values 4, -3 and 5\n",
        "x = torch.tensor(4., requires_grad=True)\n",
        "y = torch.tensor(-3., requires_grad=True)\n",
        "z = torch.tensor(5., requires_grad=True)\n",
        "\n",
        "# Set q to sum of x and y, set f to product of q with z\n",
        "q = x + y\n",
        "f = q * z\n",
        "\n",
        "# Compute the derivatives\n",
        "f.backward()\n",
        "\n",
        "# Print the gradients\n",
        "print(\"Gradient of x is: \" + str(x.grad))\n",
        "print(\"Gradient of y is: \" + str(y.grad))\n",
        "print(\"Gradient of z is: \" + str(z.grad))\n",
        "# Please read the worning\n",
        "print(f.grad)"
      ]
    },
    {
      "cell_type": "code",
      "execution_count": 14,
      "metadata": {
        "colab": {
          "base_uri": "https://localhost:8080/"
        },
        "id": "cWxVknfRpmIW",
        "outputId": "2963b4cd-1252-43ba-883b-f120f59b5c87"
      },
      "outputs": [
        {
          "output_type": "stream",
          "name": "stdout",
          "text": [
            "None\n"
          ]
        }
      ],
      "source": [
        "print(f.retain_grad())"
      ]
    },
    {
      "cell_type": "markdown",
      "metadata": {
        "id": "_OdHLdZeU4Ha"
      },
      "source": [
        "### Fully connected neural network\n",
        "\n"
      ]
    },
    {
      "cell_type": "code",
      "execution_count": 15,
      "metadata": {
        "colab": {
          "base_uri": "https://localhost:8080/"
        },
        "id": "P8W1h0Jjq7k-",
        "outputId": "833400c3-9bdd-4ef2-bf42-9dbf1cd333b3"
      },
      "outputs": [
        {
          "output_type": "stream",
          "name": "stdout",
          "text": [
            "tensor([295.9305, 309.3376, 310.7139, 246.0047])\n"
          ]
        }
      ],
      "source": [
        "input_layer = torch.rand(10)\n",
        "\n",
        "# Initialize random weights\n",
        "w1 = torch.rand(10, 20)\n",
        "w2 = torch.rand(20, 20)\n",
        "w3 = torch.rand(20, 4)\n",
        "\n",
        "# calculate values in each layer\n",
        "h1 = torch.matmul(input_layer, w1)\n",
        "h2 = torch.matmul(h1, w2)\n",
        "output_layer = torch.matmul(h2, w3)\n",
        "print(output_layer)"
      ]
    },
    {
      "cell_type": "code",
      "execution_count": 16,
      "metadata": {
        "id": "_p2WciYlq86W"
      },
      "outputs": [],
      "source": [
        "import torch\n",
        "import torch.nn as nn\n",
        "\"\"\"\n",
        " Parent class can be referred to with the use of the super() function. \n",
        " The super function returns a temporary object of the superclass that allows access to all of its methods to its child class.\n",
        "\"\"\"\n",
        "class Net(nn.Module):\n",
        "  def __init__(self):\n",
        "    super(Net, self).__init__()\n",
        "    self.fc1 = nn.Linear(10, 20)\n",
        "    self.fc2 = nn.Linear(20, 20)\n",
        "    self.output = nn.Linear(20, 4)\n",
        "\n",
        "  def forward(self, x):\n",
        "    x = self.fc1(x)\n",
        "    x = self.fc2(x)\n",
        "    x = self.output(x)\n",
        "    return x"
      ]
    },
    {
      "cell_type": "code",
      "execution_count": 17,
      "metadata": {
        "colab": {
          "base_uri": "https://localhost:8080/"
        },
        "id": "TMbL0y_quG_h",
        "outputId": "ce3731f5-46b0-4a68-8303-c9c60a761ed7"
      },
      "outputs": [
        {
          "output_type": "execute_result",
          "data": {
            "text/plain": [
              "tensor([-0.0031, -0.1114, -0.0127,  0.0003], grad_fn=<AddBackward0>)"
            ]
          },
          "metadata": {},
          "execution_count": 17
        }
      ],
      "source": [
        "input_layer = torch.rand(10)\n",
        "net = Net()\n",
        "result = net(input_layer)\n",
        "result"
      ]
    },
    {
      "cell_type": "markdown",
      "metadata": {
        "id": "B71CMxpHuozf"
      },
      "source": [
        "### Activation Functions"
      ]
    },
    {
      "cell_type": "code",
      "execution_count": 18,
      "metadata": {
        "colab": {
          "base_uri": "https://localhost:8080/"
        },
        "id": "HBgNKZDBup_2",
        "outputId": "3e484eb0-1936-4f98-b155-1cd17dff2be6"
      },
      "outputs": [
        {
          "output_type": "stream",
          "name": "stdout",
          "text": [
            "tensor([[2., 0.]])\n"
          ]
        }
      ],
      "source": [
        "import torch.nn as nn\n",
        "\n",
        "relu = nn.ReLU()\n",
        "tensor_1 = torch.tensor([[2.0, -4.0]])\n",
        "print(relu(tensor_1))"
      ]
    },
    {
      "cell_type": "code",
      "execution_count": 19,
      "metadata": {
        "id": "01OP17fDszMU"
      },
      "outputs": [],
      "source": [
        "input_layer = torch.tensor([[ 0.0401, -0.9005,  0.0397, -0.0876]])\n",
        "weight_1 = torch.tensor([[-0.1094, -0.8285,  0.0416, -1.1222],\n",
        "                          [ 0.3327, -0.0461,  1.4473, -0.8070],\n",
        "                          [ 0.0681, -0.7058, -1.8017,  0.5857],\n",
        "                          [ 0.8764,  0.9618, -0.4505,  0.2888]])\n",
        "\n",
        "weight_2 = torch.tensor([[ 0.6856, -1.7650,  1.6375, -1.5759],\n",
        "                        [-0.1092, -0.1620,  0.1951, -0.1169],\n",
        "                        [-0.5120,  1.1997,  0.8483, -0.2476],\n",
        "                        [-0.3369,  0.5617, -0.6658,  0.2221]])\n",
        "\n",
        "weight_3 = torch.tensor([[ 0.8824,  0.1268,  1.1951,  1.3061],\n",
        "                        [-0.8753, -0.3277, -0.1454, -0.0167],\n",
        "                        [ 0.3582,  0.3254, -1.8509, -1.4205],\n",
        "                        [ 0.3786,  0.5999, -0.5665, -0.3975]])"
      ]
    },
    {
      "cell_type": "markdown",
      "metadata": {
        "id": "ho1r9LF3w2Uz"
      },
      "source": [
        "##### Adding non-linear function results the same results in the following example"
      ]
    },
    {
      "cell_type": "code",
      "execution_count": 20,
      "metadata": {
        "colab": {
          "base_uri": "https://localhost:8080/"
        },
        "id": "PQDig7_pukOu",
        "outputId": "18e5a0c8-6301-4905-d7d8-f457dd66ac13"
      },
      "outputs": [
        {
          "output_type": "stream",
          "name": "stdout",
          "text": [
            "tensor([[0.2653, 0.1311, 3.8219, 3.0032]])\n",
            "tensor([[0.2653, 0.1311, 3.8219, 3.0032]])\n"
          ]
        }
      ],
      "source": [
        "# Calculate the first and second hidden layer\n",
        "hidden_1 = torch.matmul(input_layer, weight_1)\n",
        "hidden_2 = torch.matmul(hidden_1, weight_2)\n",
        "\n",
        "# Calculate the output\n",
        "output = torch.matmul(hidden_2, weight_3)\n",
        "print(output)\n",
        "\n",
        "# Calculate weight_composed_1 and weight\n",
        "weight_composed_1 = torch.matmul(weight_1, weight_2)\n",
        "weight = torch.matmul(weight_composed_1, weight_3)\n",
        "\n",
        "# Multiply input_layer with weight\n",
        "print(torch.matmul(input_layer, weight))"
      ]
    },
    {
      "cell_type": "markdown",
      "metadata": {
        "id": "XU3FPpuIxQU4"
      },
      "source": [
        "##### Add relu to apply the non-linearity"
      ]
    },
    {
      "cell_type": "code",
      "execution_count": 21,
      "metadata": {
        "colab": {
          "base_uri": "https://localhost:8080/"
        },
        "id": "1xqRqwL6ulst",
        "outputId": "1e4bb695-b238-47da-ad79-c100400f1345"
      },
      "outputs": [
        {
          "output_type": "stream",
          "name": "stdout",
          "text": [
            "tensor([[-0.2770, -0.0345, -0.1410, -0.0664]])\n",
            "tensor([[-0.2117, -0.4782,  4.0438,  3.0417]])\n"
          ]
        }
      ],
      "source": [
        "# Instantiate non-linearity\n",
        "relu = nn.ReLU()\n",
        "\n",
        "# Apply non-linearity on hidden_1 and hidden_2\n",
        "hidden_1_activated = relu(torch.matmul(input_layer, weight_1))\n",
        "hidden_2_activated = relu(torch.matmul(hidden_1_activated, weight_2))\n",
        "print(torch.matmul(hidden_2_activated, weight_3))\n",
        "\n",
        "# Apply non-linearity to the product of first two weights. \n",
        "weight_composed_1_activated = relu(torch.matmul(weight_1, weight_2))\n",
        "\n",
        "# Multiply `weight_composed_1_activated` with `weight_3\n",
        "weight = torch.matmul(weight_composed_1_activated, weight_3)\n",
        "\n",
        "# Multiply input_layer with weight\n",
        "print(torch.matmul(input_layer, weight))"
      ]
    },
    {
      "cell_type": "markdown",
      "metadata": {
        "id": "H3t1OOvRwI-e"
      },
      "source": [
        "### Loss Function"
      ]
    },
    {
      "cell_type": "code",
      "execution_count": 22,
      "metadata": {
        "id": "XP4NsflOyaZP"
      },
      "outputs": [],
      "source": [
        "# Take a Look on chapter2 page 10"
      ]
    },
    {
      "cell_type": "code",
      "execution_count": 23,
      "metadata": {
        "colab": {
          "base_uri": "https://localhost:8080/"
        },
        "id": "yJc-qCv-yaV5",
        "outputId": "d02a7497-33b3-4a84-cba3-2e7a083c86e6"
      },
      "outputs": [
        {
          "output_type": "stream",
          "name": "stdout",
          "text": [
            "tensor(0.0117)\n"
          ]
        }
      ],
      "source": [
        "\"\"\"\n",
        "Predicted scores are -1.2 for class 0 (cat), 0.12 for class 1 (car) and 4.8 for class 2 (frog). \n",
        "The ground truth is class 2 (frog). Compute the loss function in PyTorch.\n",
        "\"\"\"\n",
        "\n",
        "# Initialize the scores and ground truth\n",
        "logits = torch.tensor([[-1.2, 0.12, 4.8]])\n",
        "ground_truth = torch.tensor([2])\n",
        "\n",
        "# Instantiate cross entropy loss\n",
        "criterion = nn.CrossEntropyLoss()\n",
        "\n",
        "# Compute and print the loss\n",
        "loss = criterion(logits, ground_truth)\n",
        "print(loss)"
      ]
    },
    {
      "cell_type": "markdown",
      "metadata": {
        "id": "3I_Un3sKyaT_"
      },
      "source": [
        "### 1) Preparing a dataset in PyTorch"
      ]
    },
    {
      "cell_type": "code",
      "execution_count": 24,
      "metadata": {
        "id": "pYVEBmLV-TlP"
      },
      "outputs": [],
      "source": [
        "import torchvision # a package which deals with datasets and pretrained neural nets\n",
        "import torch.utils.data\n",
        "import torchvision.transforms as transforms"
      ]
    },
    {
      "cell_type": "code",
      "execution_count": 25,
      "metadata": {
        "id": "2TZSTbqxG6wP"
      },
      "outputs": [],
      "source": [
        "# Transformation of images to torch tensors\n",
        "# Define the values for standardizing the images, the mean and standard deviation of each channel.\n",
        "# Means and Standard deviation are pre-calculated\n",
        "transform = transforms.Compose([\n",
        "                                transforms.ToTensor(),\n",
        "                                transforms.Normalize( (0.4914, 0.48216, 0.44653), \n",
        "                                                      (0.24703, 0.24349, 0.2619) )\n",
        "])"
      ]
    },
    {
      "cell_type": "code",
      "execution_count": 26,
      "metadata": {
        "colab": {
          "base_uri": "https://localhost:8080/",
          "height": 104,
          "referenced_widgets": [
            "f329efdc76d6449796b30bc7610b3f52",
            "135c52970b274433b69d59676664956e",
            "d8a7bda99c7849e2a92ab989b582c84f",
            "7ba99bde513f4414ba3e25e02f60b575",
            "601a1de63ffe4599a21d55eb02c59923",
            "fda7d1d00a704a8da2c80fdc05971e05",
            "8ce2b60937d343ac998d27a373c929f6",
            "9cb68444960e4930955a091e5de28416",
            "7bf6b03635d8496797cc4190b9338c09",
            "0d4ddfb0134944c08a55af8d18f3429d",
            "bf1a448611104759bb1bd5b272723185"
          ]
        },
        "id": "K62EhGxYH_sF",
        "outputId": "ea74f24e-5fd2-4d1b-e79a-dd3bff61c905"
      },
      "outputs": [
        {
          "output_type": "stream",
          "name": "stdout",
          "text": [
            "Downloading https://www.cs.toronto.edu/~kriz/cifar-10-python.tar.gz to ./data/cifar-10-python.tar.gz\n"
          ]
        },
        {
          "output_type": "display_data",
          "data": {
            "text/plain": [
              "  0%|          | 0/170498071 [00:00<?, ?it/s]"
            ],
            "application/vnd.jupyter.widget-view+json": {
              "version_major": 2,
              "version_minor": 0,
              "model_id": "f329efdc76d6449796b30bc7610b3f52"
            }
          },
          "metadata": {}
        },
        {
          "output_type": "stream",
          "name": "stdout",
          "text": [
            "Extracting ./data/cifar-10-python.tar.gz to ./data\n",
            "Files already downloaded and verified\n"
          ]
        }
      ],
      "source": [
        "# load CIFAR dataset from torchvision\n",
        "# Set the download flag to True, which tells the PyTorch that if dataset is not in the specified folder, to download and put it there.\n",
        "# set transform to transform, essentially transforming images to torch tensors by applying the transformation we defined in the previous cell.\n",
        "trainset = torchvision.datasets.CIFAR10(root='./data', train=True, download=True, transform=transform)\n",
        "testset = torchvision.datasets.CIFAR10(root='./data', train=False, download=True, transform=transform)"
      ]
    },
    {
      "cell_type": "code",
      "execution_count": 27,
      "metadata": {
        "colab": {
          "base_uri": "https://localhost:8080/"
        },
        "id": "cdLZgw7cutJG",
        "outputId": "8caa1a00-9995-48bf-9258-0145f14fa081"
      },
      "outputs": [
        {
          "output_type": "stream",
          "name": "stderr",
          "text": [
            "/usr/local/lib/python3.7/dist-packages/torch/utils/data/dataloader.py:481: UserWarning: This DataLoader will create 4 worker processes in total. Our suggested max number of worker in current system is 2, which is smaller than what this DataLoader is going to create. Please be aware that excessive worker creation might get DataLoader running slow or even freeze, lower the worker number to avoid potential slowness/freeze if necessary.\n",
            "  cpuset_checked))\n"
          ]
        }
      ],
      "source": [
        "# Define train and test loaders\n",
        "trainLoader_CIFAR10 = torch.utils.data.DataLoader(trainset, batch_size=32, shuffle=True, num_workers=4)\n",
        "testLoader_CIFAR10 = torch.utils.data.DataLoader(testset, batch_size=32, shuffle=True, num_workers=4)"
      ]
    },
    {
      "cell_type": "code",
      "execution_count": 28,
      "metadata": {
        "colab": {
          "base_uri": "https://localhost:8080/"
        },
        "id": "_AfQq4E0x0oo",
        "outputId": "f0c68ca7-143b-4997-9198-320a4ed898a5"
      },
      "outputs": [
        {
          "output_type": "stream",
          "name": "stdout",
          "text": [
            "(50000, 32, 32, 3)\n",
            "(10000, 32, 32, 3)\n"
          ]
        }
      ],
      "source": [
        "# Display trainset shape\n",
        "print(trainLoader_CIFAR10.dataset.data.shape)\n",
        "# Display testset shape\n",
        "print(testLoader_CIFAR10.dataset.data.shape)"
      ]
    },
    {
      "cell_type": "code",
      "execution_count": 29,
      "metadata": {
        "colab": {
          "base_uri": "https://localhost:8080/"
        },
        "id": "g3CUbpZUylM_",
        "outputId": "4fee68a4-4ee1-4c5d-94b9-88e0d49634ac"
      },
      "outputs": [
        {
          "output_type": "stream",
          "name": "stdout",
          "text": [
            "32\n"
          ]
        }
      ],
      "source": [
        "print(testLoader_CIFAR10.batch_size)"
      ]
    },
    {
      "cell_type": "code",
      "execution_count": 30,
      "metadata": {
        "colab": {
          "base_uri": "https://localhost:8080/"
        },
        "id": "ZDoJX4vb08iE",
        "outputId": "2bfc1822-13d3-48a9-ebe9-a257a4012a5e"
      },
      "outputs": [
        {
          "output_type": "stream",
          "name": "stdout",
          "text": [
            "<torch.utils.data.sampler.RandomSampler object at 0x7fde018c23d0>\n"
          ]
        }
      ],
      "source": [
        "# Take a look at the type of random sampler\n",
        "print(testLoader_CIFAR10.sampler)"
      ]
    },
    {
      "cell_type": "code",
      "source": [
        "import matplotlib.pyplot as plt\n",
        "dataset = testLoader_CIFAR10.dataset.data\n",
        "img = dataset[6, :, :, :]\n",
        "\n",
        "plt.imshow(img)\n",
        "plt.axis('off')"
      ],
      "metadata": {
        "colab": {
          "base_uri": "https://localhost:8080/",
          "height": 266
        },
        "id": "XWlN4Hg2w_ob",
        "outputId": "6d233447-933a-401d-e1f1-1619f5a28380"
      },
      "execution_count": 31,
      "outputs": [
        {
          "output_type": "execute_result",
          "data": {
            "text/plain": [
              "(-0.5, 31.5, 31.5, -0.5)"
            ]
          },
          "metadata": {},
          "execution_count": 31
        },
        {
          "output_type": "display_data",
          "data": {
            "text/plain": [
              "<Figure size 432x288 with 1 Axes>"
            ],
            "image/png": "[encoded data removed]"
          },
          "metadata": {
            "needs_background": "light"
          }
        }
      ]
    },
    {
      "cell_type": "code",
      "execution_count": 32,
      "metadata": {
        "id": "Snm7JjDe1iyI",
        "colab": {
          "base_uri": "https://localhost:8080/",
          "height": 461,
          "referenced_widgets": [
            "712ac3308af4422e944fba810159ab9f",
            "35d76bf962ec4d82989bfbd2b290eb0c",
            "39e4ff7bcc7f4d5db98fdfd131e49fab",
            "866d33d9ab3547ffbef2fe1e6ac7de52",
            "10130eaaa8694e2b93955a0018be93f9",
            "3d5d2726c6824a0eaf43d86095bc1952",
            "22d7f50a801c48208507c98ca1446310",
            "4cfc58ba0d1f4b75add8aa4943c724f5",
            "d390dcd76acc4b2b99aae6c9afbf5b8a",
            "082f49a618db4ff286279046bb6d1b38",
            "4c0649d8175c4ec4b7992cb902ac3349",
            "001071ca5e704560bbceaea412818bec",
            "caeb94a13c37427daf27b98f6d0af783",
            "f027d87d0b014593a697d9ef28f37bba",
            "c0b043160ae64fb8a5ef925900e623ca",
            "452a1bc348714357bddb4c52cc209442",
            "d03d76a618ea492ebdd197db02e47523",
            "1d97d4da75b74bfdb9c0dec27e3bbf7a",
            "c71b5b185657432eab816abe90a07b7e",
            "218be0f3e1f044d098d63b5a4bb1fb4c",
            "38991ad6400043afad8901547616d967",
            "f37b2bf06bb64b588f64f413fd4ee39c",
            "7c20aea9267547459f1160262d33efa1",
            "6d619a353b9f45f4ae2aecf1b7dafaed",
            "d49caabc8aec451dad1685cadc9dad59",
            "5fcd322fa0fb413681468c0c8993e961",
            "de42808047c44ccca74bb642f97c9b26",
            "1bb7b4bdfa704c5ca062ba6429be891e",
            "16025d3d1c9d4755b79d0a18af1dc8f5",
            "6074440db4f24cc186d3f34475e8d48a",
            "30c116fc618e447199eb924a32e9373b",
            "35bd8efc2558497bb9cda50b87840b91",
            "a7b4a29afdd74a38aa9044eac0321aea",
            "1790ed6f5b124ddabd2c6b42de64b288",
            "a7cd8c8e99f54fd29de86688381041d6",
            "fcd33ab98fa1415eb01d6e82597202b3",
            "be97d3c2ad5f481e96d2e63fb4dc63d2",
            "90c28445699a4b2daa1a3d9c98b15a6f",
            "a94353d5e3fc4365bd273e3ea6e44570",
            "10f5b52770c5427fa80ebad612864131",
            "c9b248dd3eb74dada56d21dde241941f",
            "098581c51df44e8fb6c529abda3be620",
            "81acb5d5696c404f801fe03e213067b6",
            "9bf9ceb63b5b4898b64f229c00cb53ac"
          ]
        },
        "outputId": "07e3fcbb-abf2-4c82-9b19-16ccabe825e7"
      },
      "outputs": [
        {
          "output_type": "stream",
          "name": "stdout",
          "text": [
            "Downloading http://yann.lecun.com/exdb/mnist/train-images-idx3-ubyte.gz\n",
            "Downloading http://yann.lecun.com/exdb/mnist/train-images-idx3-ubyte.gz to mnist/MNIST/raw/train-images-idx3-ubyte.gz\n"
          ]
        },
        {
          "output_type": "display_data",
          "data": {
            "text/plain": [
              "  0%|          | 0/9912422 [00:00<?, ?it/s]"
            ],
            "application/vnd.jupyter.widget-view+json": {
              "version_major": 2,
              "version_minor": 0,
              "model_id": "712ac3308af4422e944fba810159ab9f"
            }
          },
          "metadata": {}
        },
        {
          "output_type": "stream",
          "name": "stdout",
          "text": [
            "Extracting mnist/MNIST/raw/train-images-idx3-ubyte.gz to mnist/MNIST/raw\n",
            "\n",
            "Downloading http://yann.lecun.com/exdb/mnist/train-labels-idx1-ubyte.gz\n",
            "Downloading http://yann.lecun.com/exdb/mnist/train-labels-idx1-ubyte.gz to mnist/MNIST/raw/train-labels-idx1-ubyte.gz\n"
          ]
        },
        {
          "output_type": "display_data",
          "data": {
            "text/plain": [
              "  0%|          | 0/28881 [00:00<?, ?it/s]"
            ],
            "application/vnd.jupyter.widget-view+json": {
              "version_major": 2,
              "version_minor": 0,
              "model_id": "001071ca5e704560bbceaea412818bec"
            }
          },
          "metadata": {}
        },
        {
          "output_type": "stream",
          "name": "stdout",
          "text": [
            "Extracting mnist/MNIST/raw/train-labels-idx1-ubyte.gz to mnist/MNIST/raw\n",
            "\n",
            "Downloading http://yann.lecun.com/exdb/mnist/t10k-images-idx3-ubyte.gz\n",
            "Downloading http://yann.lecun.com/exdb/mnist/t10k-images-idx3-ubyte.gz to mnist/MNIST/raw/t10k-images-idx3-ubyte.gz\n"
          ]
        },
        {
          "output_type": "display_data",
          "data": {
            "text/plain": [
              "  0%|          | 0/1648877 [00:00<?, ?it/s]"
            ],
            "application/vnd.jupyter.widget-view+json": {
              "version_major": 2,
              "version_minor": 0,
              "model_id": "7c20aea9267547459f1160262d33efa1"
            }
          },
          "metadata": {}
        },
        {
          "output_type": "stream",
          "name": "stdout",
          "text": [
            "Extracting mnist/MNIST/raw/t10k-images-idx3-ubyte.gz to mnist/MNIST/raw\n",
            "\n",
            "Downloading http://yann.lecun.com/exdb/mnist/t10k-labels-idx1-ubyte.gz\n",
            "Downloading http://yann.lecun.com/exdb/mnist/t10k-labels-idx1-ubyte.gz to mnist/MNIST/raw/t10k-labels-idx1-ubyte.gz\n"
          ]
        },
        {
          "output_type": "display_data",
          "data": {
            "text/plain": [
              "  0%|          | 0/4542 [00:00<?, ?it/s]"
            ],
            "application/vnd.jupyter.widget-view+json": {
              "version_major": 2,
              "version_minor": 0,
              "model_id": "1790ed6f5b124ddabd2c6b42de64b288"
            }
          },
          "metadata": {}
        },
        {
          "output_type": "stream",
          "name": "stdout",
          "text": [
            "Extracting mnist/MNIST/raw/t10k-labels-idx1-ubyte.gz to mnist/MNIST/raw\n",
            "\n"
          ]
        }
      ],
      "source": [
        "# Load Mnist dataset\n",
        "# Transform the data to torch tensors and normalize it \n",
        "transform = transforms.Compose([transforms.ToTensor(),\n",
        "\t\t\t\t\t\t\t\ttransforms.Normalize((0.1307), ((0.3081)))])\n",
        "\n",
        "# Prepare training set and testing set\n",
        "trainset = torchvision.datasets.MNIST('mnist', train=True, \n",
        "\t\t\t\t\t\t\t\t\t  download=True, transform=transform)\n",
        "testset = torchvision.datasets.MNIST('mnist', train=False, \n",
        "\t\t\t\t\t\t\t\t\t  download=True, transform=transform)\n",
        "\n",
        "# Prepare training loader and testing loader\n",
        "trainloader_MNIST = torch.utils.data.DataLoader(trainset, batch_size=32,\n",
        "\t\t\t\t\t\t\t\t\t\t  shuffle=True, num_workers=0)\n",
        "testloader_MNIST = torch.utils.data.DataLoader(testset, batch_size=32,\n",
        "\t\t\t\t\t\t\t\t\t\t shuffle=False, num_workers=0)       "
      ]
    },
    {
      "cell_type": "code",
      "execution_count": 33,
      "metadata": {
        "colab": {
          "base_uri": "https://localhost:8080/"
        },
        "id": "g38l4LYk4t51",
        "outputId": "3b519064-7dd3-407a-9698-b9445e84266b"
      },
      "outputs": [
        {
          "output_type": "stream",
          "name": "stdout",
          "text": [
            "torch.Size([60000, 28, 28]) torch.Size([10000, 28, 28])\n",
            "32 32\n"
          ]
        },
        {
          "output_type": "stream",
          "name": "stderr",
          "text": [
            "/usr/local/lib/python3.7/dist-packages/torchvision/datasets/mnist.py:62: UserWarning: train_data has been renamed data\n",
            "  warnings.warn(\"train_data has been renamed data\")\n",
            "/usr/local/lib/python3.7/dist-packages/torchvision/datasets/mnist.py:67: UserWarning: test_data has been renamed data\n",
            "  warnings.warn(\"test_data has been renamed data\")\n"
          ]
        }
      ],
      "source": [
        "# Compute the shape of the training set and testing set\n",
        "trainset_shape = trainloader_MNIST.dataset.train_data.shape\n",
        "testset_shape = testloader_MNIST.dataset.test_data.shape\n",
        "\n",
        "# Print the computed shapes\n",
        "print(trainset_shape, testset_shape)\n",
        "\n",
        "# Compute the size of the minibatch for training set and testing set\n",
        "trainset_batchsize = trainloader_MNIST.batch_size\n",
        "testset_batchsize = testloader_MNIST.batch_size\n",
        "\n",
        "# Print sizes of the minibatch\n",
        "print(trainset_batchsize, testset_batchsize)"
      ]
    },
    {
      "cell_type": "markdown",
      "metadata": {
        "id": "jXZ-9Wbo6Ia0"
      },
      "source": [
        "### 2) Training neural networks"
      ]
    },
    {
      "cell_type": "markdown",
      "source": [
        "##### 2_0) Data preparation"
      ],
      "metadata": {
        "id": "MqAe4JAMwrON"
      }
    },
    {
      "cell_type": "code",
      "execution_count": 34,
      "metadata": {
        "colab": {
          "base_uri": "https://localhost:8080/"
        },
        "id": "nTpbfWsPTyVh",
        "outputId": "6c898140-e141-498f-c61e-52c95f58fa22"
      },
      "outputs": [
        {
          "output_type": "stream",
          "name": "stdout",
          "text": [
            "Files already downloaded and verified\n",
            "Files already downloaded and verified\n"
          ]
        }
      ],
      "source": [
        "# Transform the data to torch tensors and normalize it \n",
        "transform = transforms.Compose([transforms.ToTensor(),\n",
        "\t\t\t\t\t\t\t\ttransforms.Normalize((0.1307), ((0.3081)))])\n",
        "\n",
        "# Prepare training set and testing set\n",
        "trainset = torchvision.datasets.CIFAR10(root='./data', train=True, \n",
        "\t\t\t\t\t\t\t\t\t  download=True, transform=transform)\n",
        "testset = torchvision.datasets.CIFAR10(root='./data', train=False, \n",
        "\t\t\t\t\t\t\t\t\t  download=True, transform=transform)\n",
        "\n",
        "# Prepare training loader and testing loader\n",
        "trainloader = torch.utils.data.DataLoader(trainset, batch_size=32,\n",
        "\t\t\t\t\t\t\t\t\t\t  shuffle=True, num_workers=0)\n",
        "testloader = torch.utils.data.DataLoader(testset, batch_size=32,\n",
        "\t\t\t\t\t\t\t\t\t\t shuffle=False, num_workers=0)"
      ]
    },
    {
      "cell_type": "code",
      "source": [
        "num_unique_classes = len(np.unique(np.array([trainloader.dataset.targets])))\n",
        "print(num_unique_classes)"
      ],
      "metadata": {
        "colab": {
          "base_uri": "https://localhost:8080/"
        },
        "id": "Bjj0Hd0Tybq6",
        "outputId": "1d6b8701-4398-49e4-a36d-11885f1ebef1"
      },
      "execution_count": 35,
      "outputs": [
        {
          "output_type": "stream",
          "name": "stdout",
          "text": [
            "10\n"
          ]
        }
      ]
    },
    {
      "cell_type": "markdown",
      "metadata": {
        "id": "bIE5cNpbEr8U"
      },
      "source": [
        "##### 2_1) Build the model "
      ]
    },
    {
      "cell_type": "code",
      "execution_count": 36,
      "metadata": {
        "id": "BAZfyRI8_o7K"
      },
      "outputs": [],
      "source": [
        "import torch.nn.functional as F\n",
        "\n",
        "class Net(nn.Module):\n",
        "  def __init__(self):\n",
        "    super(Net, self).__init__()\n",
        "    self.fc1 = nn.Linear(32*32*3, 500)\n",
        "    self.fc2 = nn.Linear(500, num_unique_classes)\n",
        "\n",
        "  def forward(self, x):\n",
        "    x = F.relu(self.fc1(x))\n",
        "    x = self.fc2(x)\n",
        "    return x"
      ]
    },
    {
      "cell_type": "markdown",
      "metadata": {
        "id": "ZbLXRDfgBW6l"
      },
      "source": [
        "##### 2_2) Train the model"
      ]
    },
    {
      "cell_type": "code",
      "execution_count": 37,
      "metadata": {
        "id": "qzNQ87hGIdEa"
      },
      "outputs": [],
      "source": [
        "import torch.optim as optim\n",
        "\n",
        "net = Net()\n",
        "# Our loss function\n",
        "criterion = nn.CrossEntropyLoss()\n",
        "optimizer = optim.Adam(net.parameters(), lr=3e-4)\n",
        "\n",
        "for epoch in range(10): # Loop over number of epochs\n",
        "  for _, batch in enumerate(trainloader, 0): # Loop over Batches\n",
        "    inputs, labels = batch\n",
        "    # Put all the images into vectors\n",
        "    inputs = inputs.view(-1, 32*32*3)\n",
        "\n",
        "    # zero_grad in order to not accumulate gradients from the previous iterations.\n",
        "    optimizer.zero_grad()\n",
        "\n",
        "    # Forward\n",
        "    outputs = net(inputs)\n",
        "\n",
        "    # Compute the gradients(backward)\n",
        "    loss = criterion(outputs, labels)\n",
        "    \n",
        "    # Using the loss start backpropagation\n",
        "    loss.backward()\n",
        "\n",
        "    # Change weights(optimization)\n",
        "    optimizer.step()"
      ]
    },
    {
      "cell_type": "markdown",
      "metadata": {
        "id": "sooMUXZ3KfiU"
      },
      "source": [
        "##### 2_3) Make predictions"
      ]
    },
    {
      "cell_type": "code",
      "execution_count": 38,
      "metadata": {
        "id": "p0ArdIKnKf35",
        "colab": {
          "base_uri": "https://localhost:8080/"
        },
        "outputId": "ac82b6d2-2dd2-4730-94e4-aa0a5f88f221"
      },
      "outputs": [
        {
          "output_type": "stream",
          "name": "stdout",
          "text": [
            "51.55\n"
          ]
        }
      ],
      "source": [
        "correct, total = 0, 0\n",
        "predictions = []\n",
        "# Set the network in evaluation|test mode\n",
        "net.eval()\n",
        "\n",
        "for i, batch in enumerate(testloader):\n",
        "  inputs, labels = batch\n",
        "  inputs = inputs.view(-1, 32*32*3)\n",
        "  outputs = net(inputs)\n",
        "  # We get the class with the highest score (using max function) as prediction\n",
        "  _, predicted = torch.max(outputs.data, 1) # We set 1 to get the max from each row\n",
        "  predictions.append(predicted)\n",
        "  # Compute the accuracy\n",
        "  total += labels.size(0)\n",
        "  correct += (predicted == labels).sum().item()\n",
        "\n",
        "print(100*correct/total)"
      ]
    },
    {
      "cell_type": "markdown",
      "source": [
        "### Convolution operator\n",
        "**The convolutions are used to extract features from the image**"
      ],
      "metadata": {
        "id": "F7kIlMCMf0cD"
      }
    },
    {
      "cell_type": "markdown",
      "source": [
        "##### OOP based"
      ],
      "metadata": {
        "id": "D8zzca4yf0zx"
      }
    },
    {
      "cell_type": "code",
      "source": [
        "image = torch.rand(16, 3, 32, 32)\n",
        "conv_filter = torch.nn.Conv2d(in_channels=3,\n",
        "                              out_channels=1, # Number of filters\n",
        "                              kernel_size = 5,\n",
        "                              stride=1,\n",
        "                              padding=0)\n",
        "\n",
        "output_features = conv_filter(image)\n",
        "print(output_features.shape)"
      ],
      "metadata": {
        "colab": {
          "base_uri": "https://localhost:8080/"
        },
        "id": "465Y0sdoFVPP",
        "outputId": "97f8e1f3-1df9-46cb-f936-5602805cb9ce"
      },
      "execution_count": 39,
      "outputs": [
        {
          "output_type": "stream",
          "name": "stdout",
          "text": [
            "torch.Size([16, 1, 28, 28])\n"
          ]
        }
      ]
    },
    {
      "cell_type": "markdown",
      "source": [
        "##### Functional based"
      ],
      "metadata": {
        "id": "XvFD8hUJFVJg"
      }
    },
    {
      "cell_type": "code",
      "source": [
        "import torch.nn.functional as F\n",
        "\n",
        "# 16 images with 3 channels each channel has 32 by 32 pixels.\n",
        "image = torch.rand(16, 3, 32, 32)\n",
        "filter = torch.rand(1, 3, 5, 5)\n",
        "out_feat_F = F.conv2d(image, filter, stride=1, padding=0)\n",
        "print(out_feat_F.shape)"
      ],
      "metadata": {
        "colab": {
          "base_uri": "https://localhost:8080/"
        },
        "id": "JCd6vumDLT7M",
        "outputId": "14e4358a-ee5a-4601-ff64-cf88f338f6f6"
      },
      "execution_count": 40,
      "outputs": [
        {
          "output_type": "stream",
          "name": "stdout",
          "text": [
            "torch.Size([16, 1, 28, 28])\n"
          ]
        }
      ]
    },
    {
      "cell_type": "markdown",
      "source": [
        "### Pooling operators\n",
        "**The pooling is a way of feature selection, choosing the most dominant features from the image, or combining different features. Additionally, they lower the resolution of the images, making the computations more efficient.**"
      ],
      "metadata": {
        "id": "O-d2HZWsLTu_"
      }
    },
    {
      "cell_type": "markdown",
      "source": [
        "##### Max-pooling with OOP way"
      ],
      "metadata": {
        "id": "QWJW2goPpYw6"
      }
    },
    {
      "cell_type": "code",
      "source": [
        "img.shape"
      ],
      "metadata": {
        "colab": {
          "base_uri": "https://localhost:8080/"
        },
        "id": "Fo4w5aeI4rBQ",
        "outputId": "3f631064-0b07-4a47-9460-ed69151707e5"
      },
      "execution_count": 41,
      "outputs": [
        {
          "output_type": "execute_result",
          "data": {
            "text/plain": [
              "(32, 32, 3)"
            ]
          },
          "metadata": {},
          "execution_count": 41
        }
      ]
    },
    {
      "cell_type": "code",
      "source": [
        "# Multiple brackets are needed, because the image needs to have 4 dimensions (for minibatch size, depth, height and width)\n",
        "img = torch.tensor([[[ [3, 1, 3, 5], \n",
        "                       [6, 0, 7, 9],\n",
        "                       [3, 2, 1, 4], \n",
        "                       [0, 2, 4, 3]  ]]], dtype=torch.float32)\n",
        "\n",
        "max_pooling = torch.nn.MaxPool2d(2)\n",
        "out_features = max_pooling(img)\n",
        "print(output_features)"
      ],
      "metadata": {
        "colab": {
          "base_uri": "https://localhost:8080/"
        },
        "id": "PnhQ_phCpMpI",
        "outputId": "f99d62cf-6acc-43d1-b6a2-e55a9efb799e"
      },
      "execution_count": 42,
      "outputs": [
        {
          "output_type": "stream",
          "name": "stdout",
          "text": [
            "tensor([[[[-2.7647e-01, -5.0015e-01, -9.1218e-02,  ...,  3.4642e-01,\n",
            "            1.9535e-01, -4.1070e-01],\n",
            "          [-4.3369e-05, -4.1966e-01,  4.4845e-02,  ..., -2.2759e-01,\n",
            "            9.0384e-02, -1.2126e-01],\n",
            "          [-1.9917e-03,  1.5518e-01, -3.3923e-03,  ..., -2.7121e-01,\n",
            "           -2.9392e-01,  5.8523e-02],\n",
            "          ...,\n",
            "          [ 5.5139e-02,  1.0205e-01,  1.5113e-01,  ..., -9.2317e-02,\n",
            "            1.0116e-01, -7.0482e-02],\n",
            "          [ 2.3433e-01, -2.2305e-01, -9.4152e-02,  ..., -1.5470e-01,\n",
            "            9.3899e-02,  8.4774e-02],\n",
            "          [ 2.1346e-01,  2.5858e-01,  1.7117e-01,  ...,  3.2449e-02,\n",
            "           -1.2692e-02, -3.6423e-01]]],\n",
            "\n",
            "\n",
            "        [[[-4.0638e-02, -9.1425e-02,  9.5523e-02,  ...,  3.0670e-01,\n",
            "           -1.0240e-01,  8.7659e-02],\n",
            "          [ 1.1801e-01, -3.3826e-02, -4.8711e-03,  ...,  1.2767e-01,\n",
            "            6.4231e-02, -3.3549e-01],\n",
            "          [ 1.4029e-02, -1.3877e-01, -4.1281e-01,  ..., -8.2539e-02,\n",
            "            2.3267e-01,  3.9851e-02],\n",
            "          ...,\n",
            "          [-2.0185e-02, -7.9084e-02, -1.2945e-02,  ..., -4.6027e-02,\n",
            "           -1.0951e-01, -2.2259e-01],\n",
            "          [-1.9389e-01,  1.6334e-01,  1.3530e-01,  ..., -5.9253e-02,\n",
            "           -2.9898e-01, -2.6722e-01],\n",
            "          [ 2.1961e-01, -1.1725e-01,  9.9294e-02,  ..., -6.1868e-02,\n",
            "            2.7610e-01, -1.1079e-01]]],\n",
            "\n",
            "\n",
            "        [[[ 2.6766e-01, -1.2095e-01, -5.4228e-02,  ..., -1.9802e-01,\n",
            "           -3.3316e-01, -9.9033e-02],\n",
            "          [ 1.7806e-01, -6.6395e-02, -1.5699e-01,  ...,  4.2632e-02,\n",
            "           -3.1916e-01, -1.4078e-01],\n",
            "          [-2.2716e-01, -2.1143e-01,  7.3518e-02,  ...,  5.1714e-03,\n",
            "           -3.3009e-01, -3.1947e-01],\n",
            "          ...,\n",
            "          [ 1.8991e-01,  1.3564e-01, -3.2726e-01,  ..., -1.4986e-01,\n",
            "           -3.8066e-01,  1.5659e-01],\n",
            "          [ 2.6038e-01,  6.3131e-03, -1.9146e-01,  ..., -1.8581e-01,\n",
            "           -2.9653e-01, -1.6447e-01],\n",
            "          [-1.0879e-01, -4.6000e-02, -8.5637e-02,  ...,  1.7869e-01,\n",
            "           -5.8665e-02,  6.7951e-02]]],\n",
            "\n",
            "\n",
            "        ...,\n",
            "\n",
            "\n",
            "        [[[-1.4798e-01,  2.1089e-02,  3.8004e-01,  ..., -1.5759e-01,\n",
            "            5.3545e-02,  1.4692e-01],\n",
            "          [-1.8703e-01,  4.6561e-02,  1.3056e-01,  ...,  7.3061e-02,\n",
            "            2.3018e-01, -1.4508e-01],\n",
            "          [-2.1309e-01,  1.9600e-01,  3.4588e-01,  ..., -9.3006e-02,\n",
            "            1.1220e-02,  1.7932e-01],\n",
            "          ...,\n",
            "          [-8.5080e-02, -2.5657e-01,  2.0872e-01,  ...,  1.1890e-01,\n",
            "            2.0509e-02,  4.3119e-02],\n",
            "          [ 8.3018e-02, -1.6930e-01,  2.6119e-01,  ..., -1.7831e-01,\n",
            "           -2.5325e-02,  9.2464e-02],\n",
            "          [-1.3144e-01, -9.9242e-02, -4.9862e-03,  ...,  1.3260e-01,\n",
            "            8.8990e-02,  1.5216e-01]]],\n",
            "\n",
            "\n",
            "        [[[-8.8373e-02,  1.4840e-01,  8.2614e-02,  ...,  7.5125e-02,\n",
            "           -2.7695e-02,  2.0107e-01],\n",
            "          [-2.3402e-01,  1.7615e-01, -1.3052e-01,  ...,  1.4096e-01,\n",
            "            1.1322e-01, -1.3330e-01],\n",
            "          [-1.3603e-01, -1.2329e-01, -1.1878e-01,  ...,  1.1863e-01,\n",
            "            8.4187e-02,  1.1558e-01],\n",
            "          ...,\n",
            "          [-7.8648e-02, -8.5063e-02, -4.9262e-02,  ..., -1.7366e-01,\n",
            "           -2.6581e-01, -9.9138e-02],\n",
            "          [-2.3267e-02, -2.9479e-03, -9.2215e-02,  ...,  1.2127e-01,\n",
            "           -1.5567e-01, -1.1473e-01],\n",
            "          [-2.6833e-01, -1.7508e-02, -1.6182e-01,  ..., -1.0617e-01,\n",
            "           -2.0748e-01, -5.9102e-02]]],\n",
            "\n",
            "\n",
            "        [[[-3.1694e-01,  1.7714e-01,  2.3965e-01,  ..., -1.1759e-01,\n",
            "           -6.7327e-02,  1.8796e-01],\n",
            "          [-1.6176e-01, -3.0436e-01,  3.4267e-01,  ..., -2.3638e-01,\n",
            "           -3.5740e-01,  2.1752e-01],\n",
            "          [ 9.7414e-02, -4.5879e-03, -1.0174e-02,  ..., -1.4015e-01,\n",
            "           -3.3561e-01,  1.8917e-01],\n",
            "          ...,\n",
            "          [ 6.0413e-04,  2.6333e-01,  1.0505e-01,  ..., -1.3452e-02,\n",
            "           -1.4721e-01,  5.2928e-02],\n",
            "          [-1.4272e-01, -1.2195e-01,  3.5164e-02,  ...,  2.4810e-01,\n",
            "           -1.2606e-01,  2.5418e-02],\n",
            "          [ 4.2043e-02,  1.2686e-01, -2.7820e-01,  ...,  2.4784e-01,\n",
            "           -3.4149e-02, -2.9639e-02]]]], grad_fn=<MkldnnConvolutionBackward0>)\n"
          ]
        }
      ]
    },
    {
      "cell_type": "markdown",
      "source": [
        "##### Max-pooling with Functional way"
      ],
      "metadata": {
        "id": "PT9ZcwcepdBi"
      }
    },
    {
      "cell_type": "code",
      "source": [
        "output_features = F.max_pool2d(img, 2)\n",
        "print(output_features)"
      ],
      "metadata": {
        "colab": {
          "base_uri": "https://localhost:8080/"
        },
        "id": "tb5CT0Cvpi9K",
        "outputId": "999e720d-4bb6-4d6c-86fa-bacaf893a4e2"
      },
      "execution_count": 43,
      "outputs": [
        {
          "output_type": "stream",
          "name": "stdout",
          "text": [
            "tensor([[[[6., 9.],\n",
            "          [3., 4.]]]])\n"
          ]
        }
      ]
    },
    {
      "cell_type": "code",
      "source": [
        "# Build a pooling operator with size `2`.\n",
        "avg_pooling = torch.nn.AvgPool2d(2)\n",
        "\n",
        "# Apply the pooling operator\n",
        "output_feature = avg_pooling(img)\n",
        "\n",
        "# Use pooling operator in the image\n",
        "output_feature_F = F.avg_pool2d(img, 2)\n",
        "\n",
        "# print the results of both cases\n",
        "print(output_feature)\n",
        "print(output_feature_F)"
      ],
      "metadata": {
        "colab": {
          "base_uri": "https://localhost:8080/"
        },
        "id": "iURrS0Pxpi3b",
        "outputId": "33daa140-825c-42c3-b63f-279422ef5b31"
      },
      "execution_count": 44,
      "outputs": [
        {
          "output_type": "stream",
          "name": "stdout",
          "text": [
            "tensor([[[[2.5000, 6.0000],\n",
            "          [1.7500, 3.0000]]]])\n",
            "tensor([[[[2.5000, 6.0000],\n",
            "          [1.7500, 3.0000]]]])\n"
          ]
        }
      ]
    },
    {
      "cell_type": "markdown",
      "source": [
        "### Convolutional Neural Networks"
      ],
      "metadata": {
        "id": "FicortaitTtP"
      }
    },
    {
      "cell_type": "markdown",
      "source": [
        "##### 1) Building the model"
      ],
      "metadata": {
        "id": "UG6bnNbm820f"
      }
    },
    {
      "cell_type": "code",
      "source": [
        "class Net(nn.Module):\n",
        "    def __init__(self, num_classes):\n",
        "        super(Net, self).__init__()\n",
        "\n",
        "        # Instantiate the ReLU nonlinearity\n",
        "        self.relu = nn.ReLU()\n",
        "        \n",
        "        # Instantiate two convolutional layers\n",
        "        self.conv1 = nn.Conv2d(in_channels=1, out_channels=5, kernel_size=3, padding=1)\n",
        "        self.conv2 = nn.Conv2d(in_channels=5, out_channels=10, kernel_size=3, padding=1)\n",
        "        \n",
        "        # Instantiate a max pooling layer\n",
        "        self.pool = nn.MaxPool2d(2, 2)\n",
        "        \n",
        "        # Instantiate a fully connected layer\n",
        "        self.fc = nn.Linear(7 * 7 * 10, num_classes)\n",
        "\n",
        "    def forward(self, x):\n",
        "        # Apply conv followd by relu, then in next line pool\n",
        "        x = self.relu(self.conv1(x))\n",
        "        x = self.pool(x)\n",
        "\n",
        "        # Apply conv followd by relu, then in next line pool\n",
        "        x = self.relu(self.conv2(x))\n",
        "        x = self.pool(x)\n",
        "\n",
        "        # Prepare the image for the fully connected layer\n",
        "        x = x.view(-1, 7*7*10)\n",
        "\n",
        "        # Apply the fully connected layer and return the result\n",
        "        return self.fc(x)"
      ],
      "metadata": {
        "id": "NGWwgtpZuRWc"
      },
      "execution_count": 45,
      "outputs": []
    },
    {
      "cell_type": "markdown",
      "source": [
        "##### 2) Training CNN"
      ],
      "metadata": {
        "id": "vEpNB2AO4mLc"
      }
    },
    {
      "cell_type": "code",
      "source": [
        "trainset = torchvision.datasets.MNIST('mnist', train=True, \n",
        "\t\t\t\t\t\t\t\t\t  download=True, transform=transform)\n",
        "num_classes = len(trainset.classes)\n",
        "net = Net(num_classes)\n",
        "criterion = nn.CrossEntropyLoss()\n",
        "optimizer = optim.Adam(net.parameters(),lr=3e-4 )\n",
        "\n",
        "for i, data in enumerate(trainloader_MNIST, 0):\n",
        "    inputs, labels = data\n",
        "    optimizer.zero_grad()\n",
        "\n",
        "    # Compute the forward pass\n",
        "    outputs = net(inputs)\n",
        "        \n",
        "    # Compute the loss function\n",
        "    loss = criterion(outputs, labels)\n",
        "        \n",
        "    # Compute the gradients\n",
        "    loss.backward()\n",
        "    \n",
        "    # Update the weights\n",
        "    optimizer.step()"
      ],
      "metadata": {
        "id": "2P1kpFj08--5"
      },
      "execution_count": 46,
      "outputs": []
    },
    {
      "cell_type": "markdown",
      "source": [
        "##### 3) Make predictions"
      ],
      "metadata": {
        "id": "CNf7QTPy_ti5"
      }
    },
    {
      "cell_type": "code",
      "source": [
        "net.eval()\n",
        "\n",
        "# Iterate over the data in the test_loader\n",
        "for i, data in enumerate(testloader_MNIST):\n",
        "\n",
        "    # Get the image and label from data\n",
        "    image, label = data\n",
        "\n",
        "    # Make a forward pass in the net with your image\n",
        "    output = net(image)\n",
        "\n",
        "    # Argmax the results of the net\n",
        "    _, predicted = torch.max(output.data, 1)"
      ],
      "metadata": {
        "id": "7jseMjBe_td3"
      },
      "execution_count": 47,
      "outputs": []
    },
    {
      "cell_type": "markdown",
      "source": [
        "### AlexNet"
      ],
      "metadata": {
        "id": "acFVIiS3uRSo"
      }
    },
    {
      "cell_type": "code",
      "source": [
        "class AlexNet(nn.Module):\n",
        "  def __init__(self, num_classes=1000):\n",
        "    super(AlexNet, self).__init__()\n",
        "    self.conv1 = nn.Conv2d(3, 64, kernel_size=11, stride=4, padding=2)\n",
        "    self.relu = nn.ReLU(inplace=True)\n",
        "    self.maxpooling = nn.MaxPool2d(kernal_size=3, stride=2)\n",
        "    self.conv2 = nn.Conv2d(64, 192, kernel_size=5, padding=2)\n",
        "    self.conv3 = nn.Conv2d(192, 384, kernel_size=3, padding=1)\n",
        "    self.conv4 = nn.Conv2d(384, 256, kernel_size=3, padding=1)\n",
        "    self.conv5 = nn.Conv2d(256, 256, kernel_size=3, padding=1)\n",
        "    self.avgpool = nn.AdaptiveMaxPool2d((6, 6))\n",
        "    self.fc1 = nn.Linear(256*6*6, 4096)\n",
        "    self.fc2 = nn.Linear(4096, 4096)\n",
        "    self.fc3 = nn.Linear(4096, num_classes)\n",
        "\n",
        "\n",
        "  def forward(self, x):\n",
        "    x = self.relu(self.conv1(x))\n",
        "    x = self.maxpooling(x)\n",
        "    x = self.relu(self.conv2(x))\n",
        "    x = self.maxpooling(x)\n",
        "    x = self.relu(self.conv3(x))\n",
        "    x = self.relu(self.conv4(x))\n",
        "    x = self.relu(self.conv5(x))\n",
        "    x = self.maxpooling(x)\n",
        "    x = self.avgpool(x)\n",
        "    x = self.view(x.size(0), 256*6*6)\n",
        "    x = self.relu(self.fc1(x))\n",
        "    x = self.relu(self.fc2(x))\n",
        "    return self.fc3(x)"
      ],
      "metadata": {
        "id": "8vrVHjFZuRQd"
      },
      "execution_count": 56,
      "outputs": []
    },
    {
      "cell_type": "markdown",
      "source": [
        "### The sequential module\n",
        "**The sequential module lets you write tens of lines of code vs hundreds of them.**"
      ],
      "metadata": {
        "id": "aE4EMis6NoG-"
      }
    },
    {
      "cell_type": "code",
      "source": [
        "class Net(nn.Module):\n",
        "    def __init__(self):\n",
        "        super(Net, self).__init__()\n",
        "        \n",
        "        # Declare all the layers for feature extraction\n",
        "        self.features = nn.Sequential(nn.Conv2d(in_channels=1, out_channels=5, kernel_size=3, padding=1), \n",
        "                                      nn.ReLU(inplace=True),\n",
        "                                      nn.Conv2d(in_channels=5, out_channels=10, kernel_size=3, padding=1), \n",
        "                                      nn.MaxPool2d(2, 2), nn.ReLU(inplace=True),\n",
        "                                      nn.Conv2d(in_channels=10, out_channels=20, kernel_size=3, padding=1),\n",
        "                                      nn.ReLU(inplace=True),\n",
        "                                      nn.Conv2d(in_channels=20, out_channels=40, kernel_size=3, padding=1),\n",
        "                                      nn.MaxPool2d(2, 2), nn.ReLU(inplace=True))\n",
        "        \n",
        "        # Declare all the layers for classification\n",
        "        self.classifier = nn.Sequential(nn.Linear(7 * 7 * 40, 1024), nn.ReLU(inplace=True),\n",
        "                                       \tnn.Linear(1024, 2048), nn.ReLU(inplace=True),\n",
        "                                        nn.Linear(2048, 10))\n",
        "        \n",
        "    def forward(self, x):\n",
        "      \n",
        "        # Apply the feature extractor in the input\n",
        "        x = self.features(x)\n",
        "        \n",
        "        # Squeeze the three spatial dimensions in one\n",
        "        x = x.view(-1, 7 * 7 * 40)\n",
        "        \n",
        "        # Classify the images\n",
        "        x = self.classifier(x)\n",
        "        return x"
      ],
      "metadata": {
        "id": "d5KNWSgONpkM"
      },
      "execution_count": 48,
      "outputs": []
    },
    {
      "cell_type": "markdown",
      "source": [
        "### The problem of overfitting\n",
        "**To avoid overfitting we evaluate the model on validation data before using it for predictions**"
      ],
      "metadata": {
        "id": "CimW-HEYQ4AS"
      }
    },
    {
      "cell_type": "code",
      "source": [
        "# How to split training data to training and validation.\n",
        "# Shuffle the indices\n",
        "indices = np.arange(60000)\n",
        "np.random.shuffle(indices)\n",
        "\n",
        "train_data = torchvision.datasets.MNIST('mnist', download=True, train=True,\n",
        "                   transform=transforms.Compose([transforms.ToTensor(), transforms.Normalize((0.1307,), (0.3081,))]))\n",
        "\n",
        "# Build the train loader\n",
        "train_loader = torch.utils.data.DataLoader(train_data, batch_size=64, shuffle=False, sampler=torch.utils.data.SubsetRandomSampler(indices[:55000]))\n",
        "\n",
        "# Build the validation loader\n",
        "val_loader = torch.utils.data.DataLoader(train_data, batch_size=64, shuffle=False, sampler=torch.utils.data.SubsetRandomSampler(indices[55000:]))"
      ],
      "metadata": {
        "id": "dTt4sHn1TD3z"
      },
      "execution_count": 49,
      "outputs": []
    },
    {
      "cell_type": "markdown",
      "source": [
        "### 1) Regularization techniques"
      ],
      "metadata": {
        "id": "iQ_9ZJ0UVbnZ"
      }
    },
    {
      "cell_type": "markdown",
      "source": [
        "##### L2 Regularization"
      ],
      "metadata": {
        "id": "qM_r0dQyVwKG"
      }
    },
    {
      "cell_type": "code",
      "source": [
        "optimizer = optim.Adam(net.parameters(), lr=3e-4, weight_decay=1e-4)"
      ],
      "metadata": {
        "id": "Fyqm5fjtANm4"
      },
      "execution_count": 50,
      "outputs": []
    },
    {
      "cell_type": "markdown",
      "source": [
        "### 2) Dropout\n",
        "**Units are forced to not be dependent on the surrounding units. It can also be considered that in each iteration, the architecture of the neural network is changing (because different neurons are removed from computations with each iteration). Typically, dropout is used in fully-connected layers, while is rarely used in convolutional layers.**"
      ],
      "metadata": {
        "id": "I8HBPMWQANkX"
      }
    },
    {
      "cell_type": "code",
      "source": [
        "class Net(nn.Module):\n",
        "    def __init__(self):\n",
        "        \n",
        "        # Define all the parameters of the net\n",
        "        self.classifier = nn.Sequential(\n",
        "            nn.Linear(28*28, 200),\n",
        "            nn.ReLU(inplace=True),\n",
        "            nn.Dropout(p=0.5),\n",
        "            nn.Linear(200, 500),\n",
        "            nn.ReLU(inplace=True),\n",
        "            nn.Linear(500, 10))\n",
        "        \n",
        "    def forward(self, x):\n",
        "    \n",
        "    \t# Do the forward pass\n",
        "        return self.classifier(x)"
      ],
      "metadata": {
        "id": "KGmND_VeE5hZ"
      },
      "execution_count": 51,
      "outputs": []
    },
    {
      "cell_type": "markdown",
      "source": [
        "### 3) Batch-normalization\n",
        "**It computes the mean and the variance of the minibatch for each feature, and then it normalizes the features based on those stats.**"
      ],
      "metadata": {
        "id": "qW3Vj7cuANhm"
      }
    },
    {
      "cell_type": "code",
      "source": [
        "class Net(nn.Module):\n",
        "    def __init__(self):\n",
        "        super(Net, self).__init__()\n",
        "        \n",
        "        # Implement the sequential module for feature extraction\n",
        "        self.features = nn.Sequential(\n",
        "            nn.Conv2d(in_channels=1, out_channels=10, kernel_size=3, stride=1, padding=1),\n",
        "            nn.MaxPool2d(2, 2), nn.ReLU(inplace=True), nn.BatchNorm2d(10), # The argument in the BatchNorm2d() is the number of channels.\n",
        "            nn.Conv2d(in_channels=10, out_channels=20, kernel_size=3, stride=1, padding=1),\n",
        "            nn.MaxPool2d(2, 2), nn.ReLU(inplace=True), nn.BatchNorm2d(20))\n",
        "        \n",
        "        # Implement the fully connected layer for classification\n",
        "        self.fc = nn.Linear(in_features=7*7*20, out_features=10)"
      ],
      "metadata": {
        "id": "XUW6VoEFGY1T"
      },
      "execution_count": 52,
      "outputs": []
    },
    {
      "cell_type": "markdown",
      "source": [
        "### 4) Early-stopping\n",
        "**It simply checks the accuracy of the network in the validation set at the end of each epoch, and if after n epochs the performance of the net hasn't increased (or it has decreased), then training is terminated. It is important to save the network every time the accuracy improves, so that at the end of the training we use the best performing network.**"
      ],
      "metadata": {
        "id": "f4A4ae06CKmP"
      }
    }
  ],
  "metadata": {
    "colab": {
      "collapsed_sections": [],
      "name": "pytorch basic operations.ipynb",
      "provenance": []
    },
    "kernelspec": {
      "display_name": "Python 3",
      "name": "python3"
    },
    "language_info": {
      "name": "python"
    },
    "widgets": {
      "application/vnd.jupyter.widget-state+json": {
        "f329efdc76d6449796b30bc7610b3f52": {
          "model_module": "@jupyter-widgets/controls",
          "model_name": "HBoxModel",
          "model_module_version": "1.5.0",
          "state": {
            "_dom_classes": [],
            "_model_module": "@jupyter-widgets/controls",
            "_model_module_version": "1.5.0",
            "_model_name": "HBoxModel",
            "_view_count": null,
            "_view_module": "@jupyter-widgets/controls",
            "_view_module_version": "1.5.0",
            "_view_name": "HBoxView",
            "box_style": "",
            "children": [
              "IPY_MODEL_135c52970b274433b69d59676664956e",
              "IPY_MODEL_d8a7bda99c7849e2a92ab989b582c84f",
              "IPY_MODEL_7ba99bde513f4414ba3e25e02f60b575"
            ],
            "layout": "IPY_MODEL_601a1de63ffe4599a21d55eb02c59923"
          }
        },
        "135c52970b274433b69d59676664956e": {
          "model_module": "@jupyter-widgets/controls",
          "model_name": "HTMLModel",
          "model_module_version": "1.5.0",
          "state": {
            "_dom_classes": [],
            "_model_module": "@jupyter-widgets/controls",
            "_model_module_version": "1.5.0",
            "_model_name": "HTMLModel",
            "_view_count": null,
            "_view_module": "@jupyter-widgets/controls",
            "_view_module_version": "1.5.0",
            "_view_name": "HTMLView",
            "description": "",
            "description_tooltip": null,
            "layout": "IPY_MODEL_fda7d1d00a704a8da2c80fdc05971e05",
            "placeholder": "​",
            "style": "IPY_MODEL_8ce2b60937d343ac998d27a373c929f6",
            "value": ""
          }
        },
        "d8a7bda99c7849e2a92ab989b582c84f": {
          "model_module": "@jupyter-widgets/controls",
          "model_name": "FloatProgressModel",
          "model_module_version": "1.5.0",
          "state": {
            "_dom_classes": [],
            "_model_module": "@jupyter-widgets/controls",
            "_model_module_version": "1.5.0",
            "_model_name": "FloatProgressModel",
            "_view_count": null,
            "_view_module": "@jupyter-widgets/controls",
            "_view_module_version": "1.5.0",
            "_view_name": "ProgressView",
            "bar_style": "success",
            "description": "",
            "description_tooltip": null,
            "layout": "IPY_MODEL_9cb68444960e4930955a091e5de28416",
            "max": 170498071,
            "min": 0,
            "orientation": "horizontal",
            "style": "IPY_MODEL_7bf6b03635d8496797cc4190b9338c09",
            "value": 170498071
          }
        },
        "7ba99bde513f4414ba3e25e02f60b575": {
          "model_module": "@jupyter-widgets/controls",
          "model_name": "HTMLModel",
          "model_module_version": "1.5.0",
          "state": {
            "_dom_classes": [],
            "_model_module": "@jupyter-widgets/controls",
            "_model_module_version": "1.5.0",
            "_model_name": "HTMLModel",
            "_view_count": null,
            "_view_module": "@jupyter-widgets/controls",
            "_view_module_version": "1.5.0",
            "_view_name": "HTMLView",
            "description": "",
            "description_tooltip": null,
            "layout": "IPY_MODEL_0d4ddfb0134944c08a55af8d18f3429d",
            "placeholder": "​",
            "style": "IPY_MODEL_bf1a448611104759bb1bd5b272723185",
            "value": " 170499072/? [00:06&lt;00:00, 29436553.65it/s]"
          }
        },
        "601a1de63ffe4599a21d55eb02c59923": {
          "model_module": "@jupyter-widgets/base",
          "model_name": "LayoutModel",
          "model_module_version": "1.2.0",
          "state": {
            "_model_module": "@jupyter-widgets/base",
            "_model_module_version": "1.2.0",
            "_model_name": "LayoutModel",
            "_view_count": null,
            "_view_module": "@jupyter-widgets/base",
            "_view_module_version": "1.2.0",
            "_view_name": "LayoutView",
            "align_content": null,
            "align_items": null,
            "align_self": null,
            "border": null,
            "bottom": null,
            "display": null,
            "flex": null,
            "flex_flow": null,
            "grid_area": null,
            "grid_auto_columns": null,
            "grid_auto_flow": null,
            "grid_auto_rows": null,
            "grid_column": null,
            "grid_gap": null,
            "grid_row": null,
            "grid_template_areas": null,
            "grid_template_columns": null,
            "grid_template_rows": null,
            "height": null,
            "justify_content": null,
            "justify_items": null,
            "left": null,
            "margin": null,
            "max_height": null,
            "max_width": null,
            "min_height": null,
            "min_width": null,
            "object_fit": null,
            "object_position": null,
            "order": null,
            "overflow": null,
            "overflow_x": null,
            "overflow_y": null,
            "padding": null,
            "right": null,
            "top": null,
            "visibility": null,
            "width": null
          }
        },
        "fda7d1d00a704a8da2c80fdc05971e05": {
          "model_module": "@jupyter-widgets/base",
          "model_name": "LayoutModel",
          "model_module_version": "1.2.0",
          "state": {
            "_model_module": "@jupyter-widgets/base",
            "_model_module_version": "1.2.0",
            "_model_name": "LayoutModel",
            "_view_count": null,
            "_view_module": "@jupyter-widgets/base",
            "_view_module_version": "1.2.0",
            "_view_name": "LayoutView",
            "align_content": null,
            "align_items": null,
            "align_self": null,
            "border": null,
            "bottom": null,
            "display": null,
            "flex": null,
            "flex_flow": null,
            "grid_area": null,
            "grid_auto_columns": null,
            "grid_auto_flow": null,
            "grid_auto_rows": null,
            "grid_column": null,
            "grid_gap": null,
            "grid_row": null,
            "grid_template_areas": null,
            "grid_template_columns": null,
            "grid_template_rows": null,
            "height": null,
            "justify_content": null,
            "justify_items": null,
            "left": null,
            "margin": null,
            "max_height": null,
            "max_width": null,
            "min_height": null,
            "min_width": null,
            "object_fit": null,
            "object_position": null,
            "order": null,
            "overflow": null,
            "overflow_x": null,
            "overflow_y": null,
            "padding": null,
            "right": null,
            "top": null,
            "visibility": null,
            "width": null
          }
        },
        "8ce2b60937d343ac998d27a373c929f6": {
          "model_module": "@jupyter-widgets/controls",
          "model_name": "DescriptionStyleModel",
          "model_module_version": "1.5.0",
          "state": {
            "_model_module": "@jupyter-widgets/controls",
            "_model_module_version": "1.5.0",
            "_model_name": "DescriptionStyleModel",
            "_view_count": null,
            "_view_module": "@jupyter-widgets/base",
            "_view_module_version": "1.2.0",
            "_view_name": "StyleView",
            "description_width": ""
          }
        },
        "9cb68444960e4930955a091e5de28416": {
          "model_module": "@jupyter-widgets/base",
          "model_name": "LayoutModel",
          "model_module_version": "1.2.0",
          "state": {
            "_model_module": "@jupyter-widgets/base",
            "_model_module_version": "1.2.0",
            "_model_name": "LayoutModel",
            "_view_count": null,
            "_view_module": "@jupyter-widgets/base",
            "_view_module_version": "1.2.0",
            "_view_name": "LayoutView",
            "align_content": null,
            "align_items": null,
            "align_self": null,
            "border": null,
            "bottom": null,
            "display": null,
            "flex": null,
            "flex_flow": null,
            "grid_area": null,
            "grid_auto_columns": null,
            "grid_auto_flow": null,
            "grid_auto_rows": null,
            "grid_column": null,
            "grid_gap": null,
            "grid_row": null,
            "grid_template_areas": null,
            "grid_template_columns": null,
            "grid_template_rows": null,
            "height": null,
            "justify_content": null,
            "justify_items": null,
            "left": null,
            "margin": null,
            "max_height": null,
            "max_width": null,
            "min_height": null,
            "min_width": null,
            "object_fit": null,
            "object_position": null,
            "order": null,
            "overflow": null,
            "overflow_x": null,
            "overflow_y": null,
            "padding": null,
            "right": null,
            "top": null,
            "visibility": null,
            "width": null
          }
        },
        "7bf6b03635d8496797cc4190b9338c09": {
          "model_module": "@jupyter-widgets/controls",
          "model_name": "ProgressStyleModel",
          "model_module_version": "1.5.0",
          "state": {
            "_model_module": "@jupyter-widgets/controls",
            "_model_module_version": "1.5.0",
            "_model_name": "ProgressStyleModel",
            "_view_count": null,
            "_view_module": "@jupyter-widgets/base",
            "_view_module_version": "1.2.0",
            "_view_name": "StyleView",
            "bar_color": null,
            "description_width": ""
          }
        },
        "0d4ddfb0134944c08a55af8d18f3429d": {
          "model_module": "@jupyter-widgets/base",
          "model_name": "LayoutModel",
          "model_module_version": "1.2.0",
          "state": {
            "_model_module": "@jupyter-widgets/base",
            "_model_module_version": "1.2.0",
            "_model_name": "LayoutModel",
            "_view_count": null,
            "_view_module": "@jupyter-widgets/base",
            "_view_module_version": "1.2.0",
            "_view_name": "LayoutView",
            "align_content": null,
            "align_items": null,
            "align_self": null,
            "border": null,
            "bottom": null,
            "display": null,
            "flex": null,
            "flex_flow": null,
            "grid_area": null,
            "grid_auto_columns": null,
            "grid_auto_flow": null,
            "grid_auto_rows": null,
            "grid_column": null,
            "grid_gap": null,
            "grid_row": null,
            "grid_template_areas": null,
            "grid_template_columns": null,
            "grid_template_rows": null,
            "height": null,
            "justify_content": null,
            "justify_items": null,
            "left": null,
            "margin": null,
            "max_height": null,
            "max_width": null,
            "min_height": null,
            "min_width": null,
            "object_fit": null,
            "object_position": null,
            "order": null,
            "overflow": null,
            "overflow_x": null,
            "overflow_y": null,
            "padding": null,
            "right": null,
            "top": null,
            "visibility": null,
            "width": null
          }
        },
        "bf1a448611104759bb1bd5b272723185": {
          "model_module": "@jupyter-widgets/controls",
          "model_name": "DescriptionStyleModel",
          "model_module_version": "1.5.0",
          "state": {
            "_model_module": "@jupyter-widgets/controls",
            "_model_module_version": "1.5.0",
            "_model_name": "DescriptionStyleModel",
            "_view_count": null,
            "_view_module": "@jupyter-widgets/base",
            "_view_module_version": "1.2.0",
            "_view_name": "StyleView",
            "description_width": ""
          }
        },
        "712ac3308af4422e944fba810159ab9f": {
          "model_module": "@jupyter-widgets/controls",
          "model_name": "HBoxModel",
          "model_module_version": "1.5.0",
          "state": {
            "_dom_classes": [],
            "_model_module": "@jupyter-widgets/controls",
            "_model_module_version": "1.5.0",
            "_model_name": "HBoxModel",
            "_view_count": null,
            "_view_module": "@jupyter-widgets/controls",
            "_view_module_version": "1.5.0",
            "_view_name": "HBoxView",
            "box_style": "",
            "children": [
              "IPY_MODEL_35d76bf962ec4d82989bfbd2b290eb0c",
              "IPY_MODEL_39e4ff7bcc7f4d5db98fdfd131e49fab",
              "IPY_MODEL_866d33d9ab3547ffbef2fe1e6ac7de52"
            ],
            "layout": "IPY_MODEL_10130eaaa8694e2b93955a0018be93f9"
          }
        },
        "35d76bf962ec4d82989bfbd2b290eb0c": {
          "model_module": "@jupyter-widgets/controls",
          "model_name": "HTMLModel",
          "model_module_version": "1.5.0",
          "state": {
            "_dom_classes": [],
            "_model_module": "@jupyter-widgets/controls",
            "_model_module_version": "1.5.0",
            "_model_name": "HTMLModel",
            "_view_count": null,
            "_view_module": "@jupyter-widgets/controls",
            "_view_module_version": "1.5.0",
            "_view_name": "HTMLView",
            "description": "",
            "description_tooltip": null,
            "layout": "IPY_MODEL_3d5d2726c6824a0eaf43d86095bc1952",
            "placeholder": "​",
            "style": "IPY_MODEL_22d7f50a801c48208507c98ca1446310",
            "value": ""
          }
        },
        "39e4ff7bcc7f4d5db98fdfd131e49fab": {
          "model_module": "@jupyter-widgets/controls",
          "model_name": "FloatProgressModel",
          "model_module_version": "1.5.0",
          "state": {
            "_dom_classes": [],
            "_model_module": "@jupyter-widgets/controls",
            "_model_module_version": "1.5.0",
            "_model_name": "FloatProgressModel",
            "_view_count": null,
            "_view_module": "@jupyter-widgets/controls",
            "_view_module_version": "1.5.0",
            "_view_name": "ProgressView",
            "bar_style": "success",
            "description": "",
            "description_tooltip": null,
            "layout": "IPY_MODEL_4cfc58ba0d1f4b75add8aa4943c724f5",
            "max": 9912422,
            "min": 0,
            "orientation": "horizontal",
            "style": "IPY_MODEL_d390dcd76acc4b2b99aae6c9afbf5b8a",
            "value": 9912422
          }
        },
        "866d33d9ab3547ffbef2fe1e6ac7de52": {
          "model_module": "@jupyter-widgets/controls",
          "model_name": "HTMLModel",
          "model_module_version": "1.5.0",
          "state": {
            "_dom_classes": [],
            "_model_module": "@jupyter-widgets/controls",
            "_model_module_version": "1.5.0",
            "_model_name": "HTMLModel",
            "_view_count": null,
            "_view_module": "@jupyter-widgets/controls",
            "_view_module_version": "1.5.0",
            "_view_name": "HTMLView",
            "description": "",
            "description_tooltip": null,
            "layout": "IPY_MODEL_082f49a618db4ff286279046bb6d1b38",
            "placeholder": "​",
            "style": "IPY_MODEL_4c0649d8175c4ec4b7992cb902ac3349",
            "value": " 9913344/? [00:00&lt;00:00, 41894651.39it/s]"
          }
        },
        "10130eaaa8694e2b93955a0018be93f9": {
          "model_module": "@jupyter-widgets/base",
          "model_name": "LayoutModel",
          "model_module_version": "1.2.0",
          "state": {
            "_model_module": "@jupyter-widgets/base",
            "_model_module_version": "1.2.0",
            "_model_name": "LayoutModel",
            "_view_count": null,
            "_view_module": "@jupyter-widgets/base",
            "_view_module_version": "1.2.0",
            "_view_name": "LayoutView",
            "align_content": null,
            "align_items": null,
            "align_self": null,
            "border": null,
            "bottom": null,
            "display": null,
            "flex": null,
            "flex_flow": null,
            "grid_area": null,
            "grid_auto_columns": null,
            "grid_auto_flow": null,
            "grid_auto_rows": null,
            "grid_column": null,
            "grid_gap": null,
            "grid_row": null,
            "grid_template_areas": null,
            "grid_template_columns": null,
            "grid_template_rows": null,
            "height": null,
            "justify_content": null,
            "justify_items": null,
            "left": null,
            "margin": null,
            "max_height": null,
            "max_width": null,
            "min_height": null,
            "min_width": null,
            "object_fit": null,
            "object_position": null,
            "order": null,
            "overflow": null,
            "overflow_x": null,
            "overflow_y": null,
            "padding": null,
            "right": null,
            "top": null,
            "visibility": null,
            "width": null
          }
        },
        "3d5d2726c6824a0eaf43d86095bc1952": {
          "model_module": "@jupyter-widgets/base",
          "model_name": "LayoutModel",
          "model_module_version": "1.2.0",
          "state": {
            "_model_module": "@jupyter-widgets/base",
            "_model_module_version": "1.2.0",
            "_model_name": "LayoutModel",
            "_view_count": null,
            "_view_module": "@jupyter-widgets/base",
            "_view_module_version": "1.2.0",
            "_view_name": "LayoutView",
            "align_content": null,
            "align_items": null,
            "align_self": null,
            "border": null,
            "bottom": null,
            "display": null,
            "flex": null,
            "flex_flow": null,
            "grid_area": null,
            "grid_auto_columns": null,
            "grid_auto_flow": null,
            "grid_auto_rows": null,
            "grid_column": null,
            "grid_gap": null,
            "grid_row": null,
            "grid_template_areas": null,
            "grid_template_columns": null,
            "grid_template_rows": null,
            "height": null,
            "justify_content": null,
            "justify_items": null,
            "left": null,
            "margin": null,
            "max_height": null,
            "max_width": null,
            "min_height": null,
            "min_width": null,
            "object_fit": null,
            "object_position": null,
            "order": null,
            "overflow": null,
            "overflow_x": null,
            "overflow_y": null,
            "padding": null,
            "right": null,
            "top": null,
            "visibility": null,
            "width": null
          }
        },
        "22d7f50a801c48208507c98ca1446310": {
          "model_module": "@jupyter-widgets/controls",
          "model_name": "DescriptionStyleModel",
          "model_module_version": "1.5.0",
          "state": {
            "_model_module": "@jupyter-widgets/controls",
            "_model_module_version": "1.5.0",
            "_model_name": "DescriptionStyleModel",
            "_view_count": null,
            "_view_module": "@jupyter-widgets/base",
            "_view_module_version": "1.2.0",
            "_view_name": "StyleView",
            "description_width": ""
          }
        },
        "4cfc58ba0d1f4b75add8aa4943c724f5": {
          "model_module": "@jupyter-widgets/base",
          "model_name": "LayoutModel",
          "model_module_version": "1.2.0",
          "state": {
            "_model_module": "@jupyter-widgets/base",
            "_model_module_version": "1.2.0",
            "_model_name": "LayoutModel",
            "_view_count": null,
            "_view_module": "@jupyter-widgets/base",
            "_view_module_version": "1.2.0",
            "_view_name": "LayoutView",
            "align_content": null,
            "align_items": null,
            "align_self": null,
            "border": null,
            "bottom": null,
            "display": null,
            "flex": null,
            "flex_flow": null,
            "grid_area": null,
            "grid_auto_columns": null,
            "grid_auto_flow": null,
            "grid_auto_rows": null,
            "grid_column": null,
            "grid_gap": null,
            "grid_row": null,
            "grid_template_areas": null,
            "grid_template_columns": null,
            "grid_template_rows": null,
            "height": null,
            "justify_content": null,
            "justify_items": null,
            "left": null,
            "margin": null,
            "max_height": null,
            "max_width": null,
            "min_height": null,
            "min_width": null,
            "object_fit": null,
            "object_position": null,
            "order": null,
            "overflow": null,
            "overflow_x": null,
            "overflow_y": null,
            "padding": null,
            "right": null,
            "top": null,
            "visibility": null,
            "width": null
          }
        },
        "d390dcd76acc4b2b99aae6c9afbf5b8a": {
          "model_module": "@jupyter-widgets/controls",
          "model_name": "ProgressStyleModel",
          "model_module_version": "1.5.0",
          "state": {
            "_model_module": "@jupyter-widgets/controls",
            "_model_module_version": "1.5.0",
            "_model_name": "ProgressStyleModel",
            "_view_count": null,
            "_view_module": "@jupyter-widgets/base",
            "_view_module_version": "1.2.0",
            "_view_name": "StyleView",
            "bar_color": null,
            "description_width": ""
          }
        },
        "082f49a618db4ff286279046bb6d1b38": {
          "model_module": "@jupyter-widgets/base",
          "model_name": "LayoutModel",
          "model_module_version": "1.2.0",
          "state": {
            "_model_module": "@jupyter-widgets/base",
            "_model_module_version": "1.2.0",
            "_model_name": "LayoutModel",
            "_view_count": null,
            "_view_module": "@jupyter-widgets/base",
            "_view_module_version": "1.2.0",
            "_view_name": "LayoutView",
            "align_content": null,
            "align_items": null,
            "align_self": null,
            "border": null,
            "bottom": null,
            "display": null,
            "flex": null,
            "flex_flow": null,
            "grid_area": null,
            "grid_auto_columns": null,
            "grid_auto_flow": null,
            "grid_auto_rows": null,
            "grid_column": null,
            "grid_gap": null,
            "grid_row": null,
            "grid_template_areas": null,
            "grid_template_columns": null,
            "grid_template_rows": null,
            "height": null,
            "justify_content": null,
            "justify_items": null,
            "left": null,
            "margin": null,
            "max_height": null,
            "max_width": null,
            "min_height": null,
            "min_width": null,
            "object_fit": null,
            "object_position": null,
            "order": null,
            "overflow": null,
            "overflow_x": null,
            "overflow_y": null,
            "padding": null,
            "right": null,
            "top": null,
            "visibility": null,
            "width": null
          }
        },
        "4c0649d8175c4ec4b7992cb902ac3349": {
          "model_module": "@jupyter-widgets/controls",
          "model_name": "DescriptionStyleModel",
          "model_module_version": "1.5.0",
          "state": {
            "_model_module": "@jupyter-widgets/controls",
            "_model_module_version": "1.5.0",
            "_model_name": "DescriptionStyleModel",
            "_view_count": null,
            "_view_module": "@jupyter-widgets/base",
            "_view_module_version": "1.2.0",
            "_view_name": "StyleView",
            "description_width": ""
          }
        },
        "001071ca5e704560bbceaea412818bec": {
          "model_module": "@jupyter-widgets/controls",
          "model_name": "HBoxModel",
          "model_module_version": "1.5.0",
          "state": {
            "_dom_classes": [],
            "_model_module": "@jupyter-widgets/controls",
            "_model_module_version": "1.5.0",
            "_model_name": "HBoxModel",
            "_view_count": null,
            "_view_module": "@jupyter-widgets/controls",
            "_view_module_version": "1.5.0",
            "_view_name": "HBoxView",
            "box_style": "",
            "children": [
              "IPY_MODEL_caeb94a13c37427daf27b98f6d0af783",
              "IPY_MODEL_f027d87d0b014593a697d9ef28f37bba",
              "IPY_MODEL_c0b043160ae64fb8a5ef925900e623ca"
            ],
            "layout": "IPY_MODEL_452a1bc348714357bddb4c52cc209442"
          }
        },
        "caeb94a13c37427daf27b98f6d0af783": {
          "model_module": "@jupyter-widgets/controls",
          "model_name": "HTMLModel",
          "model_module_version": "1.5.0",
          "state": {
            "_dom_classes": [],
            "_model_module": "@jupyter-widgets/controls",
            "_model_module_version": "1.5.0",
            "_model_name": "HTMLModel",
            "_view_count": null,
            "_view_module": "@jupyter-widgets/controls",
            "_view_module_version": "1.5.0",
            "_view_name": "HTMLView",
            "description": "",
            "description_tooltip": null,
            "layout": "IPY_MODEL_d03d76a618ea492ebdd197db02e47523",
            "placeholder": "​",
            "style": "IPY_MODEL_1d97d4da75b74bfdb9c0dec27e3bbf7a",
            "value": ""
          }
        },
        "f027d87d0b014593a697d9ef28f37bba": {
          "model_module": "@jupyter-widgets/controls",
          "model_name": "FloatProgressModel",
          "model_module_version": "1.5.0",
          "state": {
            "_dom_classes": [],
            "_model_module": "@jupyter-widgets/controls",
            "_model_module_version": "1.5.0",
            "_model_name": "FloatProgressModel",
            "_view_count": null,
            "_view_module": "@jupyter-widgets/controls",
            "_view_module_version": "1.5.0",
            "_view_name": "ProgressView",
            "bar_style": "success",
            "description": "",
            "description_tooltip": null,
            "layout": "IPY_MODEL_c71b5b185657432eab816abe90a07b7e",
            "max": 28881,
            "min": 0,
            "orientation": "horizontal",
            "style": "IPY_MODEL_218be0f3e1f044d098d63b5a4bb1fb4c",
            "value": 28881
          }
        },
        "c0b043160ae64fb8a5ef925900e623ca": {
          "model_module": "@jupyter-widgets/controls",
          "model_name": "HTMLModel",
          "model_module_version": "1.5.0",
          "state": {
            "_dom_classes": [],
            "_model_module": "@jupyter-widgets/controls",
            "_model_module_version": "1.5.0",
            "_model_name": "HTMLModel",
            "_view_count": null,
            "_view_module": "@jupyter-widgets/controls",
            "_view_module_version": "1.5.0",
            "_view_name": "HTMLView",
            "description": "",
            "description_tooltip": null,
            "layout": "IPY_MODEL_38991ad6400043afad8901547616d967",
            "placeholder": "​",
            "style": "IPY_MODEL_f37b2bf06bb64b588f64f413fd4ee39c",
            "value": " 29696/? [00:00&lt;00:00, 679368.44it/s]"
          }
        },
        "452a1bc348714357bddb4c52cc209442": {
          "model_module": "@jupyter-widgets/base",
          "model_name": "LayoutModel",
          "model_module_version": "1.2.0",
          "state": {
            "_model_module": "@jupyter-widgets/base",
            "_model_module_version": "1.2.0",
            "_model_name": "LayoutModel",
            "_view_count": null,
            "_view_module": "@jupyter-widgets/base",
            "_view_module_version": "1.2.0",
            "_view_name": "LayoutView",
            "align_content": null,
            "align_items": null,
            "align_self": null,
            "border": null,
            "bottom": null,
            "display": null,
            "flex": null,
            "flex_flow": null,
            "grid_area": null,
            "grid_auto_columns": null,
            "grid_auto_flow": null,
            "grid_auto_rows": null,
            "grid_column": null,
            "grid_gap": null,
            "grid_row": null,
            "grid_template_areas": null,
            "grid_template_columns": null,
            "grid_template_rows": null,
            "height": null,
            "justify_content": null,
            "justify_items": null,
            "left": null,
            "margin": null,
            "max_height": null,
            "max_width": null,
            "min_height": null,
            "min_width": null,
            "object_fit": null,
            "object_position": null,
            "order": null,
            "overflow": null,
            "overflow_x": null,
            "overflow_y": null,
            "padding": null,
            "right": null,
            "top": null,
            "visibility": null,
            "width": null
          }
        },
        "d03d76a618ea492ebdd197db02e47523": {
          "model_module": "@jupyter-widgets/base",
          "model_name": "LayoutModel",
          "model_module_version": "1.2.0",
          "state": {
            "_model_module": "@jupyter-widgets/base",
            "_model_module_version": "1.2.0",
            "_model_name": "LayoutModel",
            "_view_count": null,
            "_view_module": "@jupyter-widgets/base",
            "_view_module_version": "1.2.0",
            "_view_name": "LayoutView",
            "align_content": null,
            "align_items": null,
            "align_self": null,
            "border": null,
            "bottom": null,
            "display": null,
            "flex": null,
            "flex_flow": null,
            "grid_area": null,
            "grid_auto_columns": null,
            "grid_auto_flow": null,
            "grid_auto_rows": null,
            "grid_column": null,
            "grid_gap": null,
            "grid_row": null,
            "grid_template_areas": null,
            "grid_template_columns": null,
            "grid_template_rows": null,
            "height": null,
            "justify_content": null,
            "justify_items": null,
            "left": null,
            "margin": null,
            "max_height": null,
            "max_width": null,
            "min_height": null,
            "min_width": null,
            "object_fit": null,
            "object_position": null,
            "order": null,
            "overflow": null,
            "overflow_x": null,
            "overflow_y": null,
            "padding": null,
            "right": null,
            "top": null,
            "visibility": null,
            "width": null
          }
        },
        "1d97d4da75b74bfdb9c0dec27e3bbf7a": {
          "model_module": "@jupyter-widgets/controls",
          "model_name": "DescriptionStyleModel",
          "model_module_version": "1.5.0",
          "state": {
            "_model_module": "@jupyter-widgets/controls",
            "_model_module_version": "1.5.0",
            "_model_name": "DescriptionStyleModel",
            "_view_count": null,
            "_view_module": "@jupyter-widgets/base",
            "_view_module_version": "1.2.0",
            "_view_name": "StyleView",
            "description_width": ""
          }
        },
        "c71b5b185657432eab816abe90a07b7e": {
          "model_module": "@jupyter-widgets/base",
          "model_name": "LayoutModel",
          "model_module_version": "1.2.0",
          "state": {
            "_model_module": "@jupyter-widgets/base",
            "_model_module_version": "1.2.0",
            "_model_name": "LayoutModel",
            "_view_count": null,
            "_view_module": "@jupyter-widgets/base",
            "_view_module_version": "1.2.0",
            "_view_name": "LayoutView",
            "align_content": null,
            "align_items": null,
            "align_self": null,
            "border": null,
            "bottom": null,
            "display": null,
            "flex": null,
            "flex_flow": null,
            "grid_area": null,
            "grid_auto_columns": null,
            "grid_auto_flow": null,
            "grid_auto_rows": null,
            "grid_column": null,
            "grid_gap": null,
            "grid_row": null,
            "grid_template_areas": null,
            "grid_template_columns": null,
            "grid_template_rows": null,
            "height": null,
            "justify_content": null,
            "justify_items": null,
            "left": null,
            "margin": null,
            "max_height": null,
            "max_width": null,
            "min_height": null,
            "min_width": null,
            "object_fit": null,
            "object_position": null,
            "order": null,
            "overflow": null,
            "overflow_x": null,
            "overflow_y": null,
            "padding": null,
            "right": null,
            "top": null,
            "visibility": null,
            "width": null
          }
        },
        "218be0f3e1f044d098d63b5a4bb1fb4c": {
          "model_module": "@jupyter-widgets/controls",
          "model_name": "ProgressStyleModel",
          "model_module_version": "1.5.0",
          "state": {
            "_model_module": "@jupyter-widgets/controls",
            "_model_module_version": "1.5.0",
            "_model_name": "ProgressStyleModel",
            "_view_count": null,
            "_view_module": "@jupyter-widgets/base",
            "_view_module_version": "1.2.0",
            "_view_name": "StyleView",
            "bar_color": null,
            "description_width": ""
          }
        },
        "38991ad6400043afad8901547616d967": {
          "model_module": "@jupyter-widgets/base",
          "model_name": "LayoutModel",
          "model_module_version": "1.2.0",
          "state": {
            "_model_module": "@jupyter-widgets/base",
            "_model_module_version": "1.2.0",
            "_model_name": "LayoutModel",
            "_view_count": null,
            "_view_module": "@jupyter-widgets/base",
            "_view_module_version": "1.2.0",
            "_view_name": "LayoutView",
            "align_content": null,
            "align_items": null,
            "align_self": null,
            "border": null,
            "bottom": null,
            "display": null,
            "flex": null,
            "flex_flow": null,
            "grid_area": null,
            "grid_auto_columns": null,
            "grid_auto_flow": null,
            "grid_auto_rows": null,
            "grid_column": null,
            "grid_gap": null,
            "grid_row": null,
            "grid_template_areas": null,
            "grid_template_columns": null,
            "grid_template_rows": null,
            "height": null,
            "justify_content": null,
            "justify_items": null,
            "left": null,
            "margin": null,
            "max_height": null,
            "max_width": null,
            "min_height": null,
            "min_width": null,
            "object_fit": null,
            "object_position": null,
            "order": null,
            "overflow": null,
            "overflow_x": null,
            "overflow_y": null,
            "padding": null,
            "right": null,
            "top": null,
            "visibility": null,
            "width": null
          }
        },
        "f37b2bf06bb64b588f64f413fd4ee39c": {
          "model_module": "@jupyter-widgets/controls",
          "model_name": "DescriptionStyleModel",
          "model_module_version": "1.5.0",
          "state": {
            "_model_module": "@jupyter-widgets/controls",
            "_model_module_version": "1.5.0",
            "_model_name": "DescriptionStyleModel",
            "_view_count": null,
            "_view_module": "@jupyter-widgets/base",
            "_view_module_version": "1.2.0",
            "_view_name": "StyleView",
            "description_width": ""
          }
        },
        "7c20aea9267547459f1160262d33efa1": {
          "model_module": "@jupyter-widgets/controls",
          "model_name": "HBoxModel",
          "model_module_version": "1.5.0",
          "state": {
            "_dom_classes": [],
            "_model_module": "@jupyter-widgets/controls",
            "_model_module_version": "1.5.0",
            "_model_name": "HBoxModel",
            "_view_count": null,
            "_view_module": "@jupyter-widgets/controls",
            "_view_module_version": "1.5.0",
            "_view_name": "HBoxView",
            "box_style": "",
            "children": [
              "IPY_MODEL_6d619a353b9f45f4ae2aecf1b7dafaed",
              "IPY_MODEL_d49caabc8aec451dad1685cadc9dad59",
              "IPY_MODEL_5fcd322fa0fb413681468c0c8993e961"
            ],
            "layout": "IPY_MODEL_de42808047c44ccca74bb642f97c9b26"
          }
        },
        "6d619a353b9f45f4ae2aecf1b7dafaed": {
          "model_module": "@jupyter-widgets/controls",
          "model_name": "HTMLModel",
          "model_module_version": "1.5.0",
          "state": {
            "_dom_classes": [],
            "_model_module": "@jupyter-widgets/controls",
            "_model_module_version": "1.5.0",
            "_model_name": "HTMLModel",
            "_view_count": null,
            "_view_module": "@jupyter-widgets/controls",
            "_view_module_version": "1.5.0",
            "_view_name": "HTMLView",
            "description": "",
            "description_tooltip": null,
            "layout": "IPY_MODEL_1bb7b4bdfa704c5ca062ba6429be891e",
            "placeholder": "​",
            "style": "IPY_MODEL_16025d3d1c9d4755b79d0a18af1dc8f5",
            "value": ""
          }
        },
        "d49caabc8aec451dad1685cadc9dad59": {
          "model_module": "@jupyter-widgets/controls",
          "model_name": "FloatProgressModel",
          "model_module_version": "1.5.0",
          "state": {
            "_dom_classes": [],
            "_model_module": "@jupyter-widgets/controls",
            "_model_module_version": "1.5.0",
            "_model_name": "FloatProgressModel",
            "_view_count": null,
            "_view_module": "@jupyter-widgets/controls",
            "_view_module_version": "1.5.0",
            "_view_name": "ProgressView",
            "bar_style": "success",
            "description": "",
            "description_tooltip": null,
            "layout": "IPY_MODEL_6074440db4f24cc186d3f34475e8d48a",
            "max": 1648877,
            "min": 0,
            "orientation": "horizontal",
            "style": "IPY_MODEL_30c116fc618e447199eb924a32e9373b",
            "value": 1648877
          }
        },
        "5fcd322fa0fb413681468c0c8993e961": {
          "model_module": "@jupyter-widgets/controls",
          "model_name": "HTMLModel",
          "model_module_version": "1.5.0",
          "state": {
            "_dom_classes": [],
            "_model_module": "@jupyter-widgets/controls",
            "_model_module_version": "1.5.0",
            "_model_name": "HTMLModel",
            "_view_count": null,
            "_view_module": "@jupyter-widgets/controls",
            "_view_module_version": "1.5.0",
            "_view_name": "HTMLView",
            "description": "",
            "description_tooltip": null,
            "layout": "IPY_MODEL_35bd8efc2558497bb9cda50b87840b91",
            "placeholder": "​",
            "style": "IPY_MODEL_a7b4a29afdd74a38aa9044eac0321aea",
            "value": " 1649664/? [00:00&lt;00:00, 20128149.58it/s]"
          }
        },
        "de42808047c44ccca74bb642f97c9b26": {
          "model_module": "@jupyter-widgets/base",
          "model_name": "LayoutModel",
          "model_module_version": "1.2.0",
          "state": {
            "_model_module": "@jupyter-widgets/base",
            "_model_module_version": "1.2.0",
            "_model_name": "LayoutModel",
            "_view_count": null,
            "_view_module": "@jupyter-widgets/base",
            "_view_module_version": "1.2.0",
            "_view_name": "LayoutView",
            "align_content": null,
            "align_items": null,
            "align_self": null,
            "border": null,
            "bottom": null,
            "display": null,
            "flex": null,
            "flex_flow": null,
            "grid_area": null,
            "grid_auto_columns": null,
            "grid_auto_flow": null,
            "grid_auto_rows": null,
            "grid_column": null,
            "grid_gap": null,
            "grid_row": null,
            "grid_template_areas": null,
            "grid_template_columns": null,
            "grid_template_rows": null,
            "height": null,
            "justify_content": null,
            "justify_items": null,
            "left": null,
            "margin": null,
            "max_height": null,
            "max_width": null,
            "min_height": null,
            "min_width": null,
            "object_fit": null,
            "object_position": null,
            "order": null,
            "overflow": null,
            "overflow_x": null,
            "overflow_y": null,
            "padding": null,
            "right": null,
            "top": null,
            "visibility": null,
            "width": null
          }
        },
        "1bb7b4bdfa704c5ca062ba6429be891e": {
          "model_module": "@jupyter-widgets/base",
          "model_name": "LayoutModel",
          "model_module_version": "1.2.0",
          "state": {
            "_model_module": "@jupyter-widgets/base",
            "_model_module_version": "1.2.0",
            "_model_name": "LayoutModel",
            "_view_count": null,
            "_view_module": "@jupyter-widgets/base",
            "_view_module_version": "1.2.0",
            "_view_name": "LayoutView",
            "align_content": null,
            "align_items": null,
            "align_self": null,
            "border": null,
            "bottom": null,
            "display": null,
            "flex": null,
            "flex_flow": null,
            "grid_area": null,
            "grid_auto_columns": null,
            "grid_auto_flow": null,
            "grid_auto_rows": null,
            "grid_column": null,
            "grid_gap": null,
            "grid_row": null,
            "grid_template_areas": null,
            "grid_template_columns": null,
            "grid_template_rows": null,
            "height": null,
            "justify_content": null,
            "justify_items": null,
            "left": null,
            "margin": null,
            "max_height": null,
            "max_width": null,
            "min_height": null,
            "min_width": null,
            "object_fit": null,
            "object_position": null,
            "order": null,
            "overflow": null,
            "overflow_x": null,
            "overflow_y": null,
            "padding": null,
            "right": null,
            "top": null,
            "visibility": null,
            "width": null
          }
        },
        "16025d3d1c9d4755b79d0a18af1dc8f5": {
          "model_module": "@jupyter-widgets/controls",
          "model_name": "DescriptionStyleModel",
          "model_module_version": "1.5.0",
          "state": {
            "_model_module": "@jupyter-widgets/controls",
            "_model_module_version": "1.5.0",
            "_model_name": "DescriptionStyleModel",
            "_view_count": null,
            "_view_module": "@jupyter-widgets/base",
            "_view_module_version": "1.2.0",
            "_view_name": "StyleView",
            "description_width": ""
          }
        },
        "6074440db4f24cc186d3f34475e8d48a": {
          "model_module": "@jupyter-widgets/base",
          "model_name": "LayoutModel",
          "model_module_version": "1.2.0",
          "state": {
            "_model_module": "@jupyter-widgets/base",
            "_model_module_version": "1.2.0",
            "_model_name": "LayoutModel",
            "_view_count": null,
            "_view_module": "@jupyter-widgets/base",
            "_view_module_version": "1.2.0",
            "_view_name": "LayoutView",
            "align_content": null,
            "align_items": null,
            "align_self": null,
            "border": null,
            "bottom": null,
            "display": null,
            "flex": null,
            "flex_flow": null,
            "grid_area": null,
            "grid_auto_columns": null,
            "grid_auto_flow": null,
            "grid_auto_rows": null,
            "grid_column": null,
            "grid_gap": null,
            "grid_row": null,
            "grid_template_areas": null,
            "grid_template_columns": null,
            "grid_template_rows": null,
            "height": null,
            "justify_content": null,
            "justify_items": null,
            "left": null,
            "margin": null,
            "max_height": null,
            "max_width": null,
            "min_height": null,
            "min_width": null,
            "object_fit": null,
            "object_position": null,
            "order": null,
            "overflow": null,
            "overflow_x": null,
            "overflow_y": null,
            "padding": null,
            "right": null,
            "top": null,
            "visibility": null,
            "width": null
          }
        },
        "30c116fc618e447199eb924a32e9373b": {
          "model_module": "@jupyter-widgets/controls",
          "model_name": "ProgressStyleModel",
          "model_module_version": "1.5.0",
          "state": {
            "_model_module": "@jupyter-widgets/controls",
            "_model_module_version": "1.5.0",
            "_model_name": "ProgressStyleModel",
            "_view_count": null,
            "_view_module": "@jupyter-widgets/base",
            "_view_module_version": "1.2.0",
            "_view_name": "StyleView",
            "bar_color": null,
            "description_width": ""
          }
        },
        "35bd8efc2558497bb9cda50b87840b91": {
          "model_module": "@jupyter-widgets/base",
          "model_name": "LayoutModel",
          "model_module_version": "1.2.0",
          "state": {
            "_model_module": "@jupyter-widgets/base",
            "_model_module_version": "1.2.0",
            "_model_name": "LayoutModel",
            "_view_count": null,
            "_view_module": "@jupyter-widgets/base",
            "_view_module_version": "1.2.0",
            "_view_name": "LayoutView",
            "align_content": null,
            "align_items": null,
            "align_self": null,
            "border": null,
            "bottom": null,
            "display": null,
            "flex": null,
            "flex_flow": null,
            "grid_area": null,
            "grid_auto_columns": null,
            "grid_auto_flow": null,
            "grid_auto_rows": null,
            "grid_column": null,
            "grid_gap": null,
            "grid_row": null,
            "grid_template_areas": null,
            "grid_template_columns": null,
            "grid_template_rows": null,
            "height": null,
            "justify_content": null,
            "justify_items": null,
            "left": null,
            "margin": null,
            "max_height": null,
            "max_width": null,
            "min_height": null,
            "min_width": null,
            "object_fit": null,
            "object_position": null,
            "order": null,
            "overflow": null,
            "overflow_x": null,
            "overflow_y": null,
            "padding": null,
            "right": null,
            "top": null,
            "visibility": null,
            "width": null
          }
        },
        "a7b4a29afdd74a38aa9044eac0321aea": {
          "model_module": "@jupyter-widgets/controls",
          "model_name": "DescriptionStyleModel",
          "model_module_version": "1.5.0",
          "state": {
            "_model_module": "@jupyter-widgets/controls",
            "_model_module_version": "1.5.0",
            "_model_name": "DescriptionStyleModel",
            "_view_count": null,
            "_view_module": "@jupyter-widgets/base",
            "_view_module_version": "1.2.0",
            "_view_name": "StyleView",
            "description_width": ""
          }
        },
        "1790ed6f5b124ddabd2c6b42de64b288": {
          "model_module": "@jupyter-widgets/controls",
          "model_name": "HBoxModel",
          "model_module_version": "1.5.0",
          "state": {
            "_dom_classes": [],
            "_model_module": "@jupyter-widgets/controls",
            "_model_module_version": "1.5.0",
            "_model_name": "HBoxModel",
            "_view_count": null,
            "_view_module": "@jupyter-widgets/controls",
            "_view_module_version": "1.5.0",
            "_view_name": "HBoxView",
            "box_style": "",
            "children": [
              "IPY_MODEL_a7cd8c8e99f54fd29de86688381041d6",
              "IPY_MODEL_fcd33ab98fa1415eb01d6e82597202b3",
              "IPY_MODEL_be97d3c2ad5f481e96d2e63fb4dc63d2"
            ],
            "layout": "IPY_MODEL_90c28445699a4b2daa1a3d9c98b15a6f"
          }
        },
        "a7cd8c8e99f54fd29de86688381041d6": {
          "model_module": "@jupyter-widgets/controls",
          "model_name": "HTMLModel",
          "model_module_version": "1.5.0",
          "state": {
            "_dom_classes": [],
            "_model_module": "@jupyter-widgets/controls",
            "_model_module_version": "1.5.0",
            "_model_name": "HTMLModel",
            "_view_count": null,
            "_view_module": "@jupyter-widgets/controls",
            "_view_module_version": "1.5.0",
            "_view_name": "HTMLView",
            "description": "",
            "description_tooltip": null,
            "layout": "IPY_MODEL_a94353d5e3fc4365bd273e3ea6e44570",
            "placeholder": "​",
            "style": "IPY_MODEL_10f5b52770c5427fa80ebad612864131",
            "value": ""
          }
        },
        "fcd33ab98fa1415eb01d6e82597202b3": {
          "model_module": "@jupyter-widgets/controls",
          "model_name": "FloatProgressModel",
          "model_module_version": "1.5.0",
          "state": {
            "_dom_classes": [],
            "_model_module": "@jupyter-widgets/controls",
            "_model_module_version": "1.5.0",
            "_model_name": "FloatProgressModel",
            "_view_count": null,
            "_view_module": "@jupyter-widgets/controls",
            "_view_module_version": "1.5.0",
            "_view_name": "ProgressView",
            "bar_style": "success",
            "description": "",
            "description_tooltip": null,
            "layout": "IPY_MODEL_c9b248dd3eb74dada56d21dde241941f",
            "max": 4542,
            "min": 0,
            "orientation": "horizontal",
            "style": "IPY_MODEL_098581c51df44e8fb6c529abda3be620",
            "value": 4542
          }
        },
        "be97d3c2ad5f481e96d2e63fb4dc63d2": {
          "model_module": "@jupyter-widgets/controls",
          "model_name": "HTMLModel",
          "model_module_version": "1.5.0",
          "state": {
            "_dom_classes": [],
            "_model_module": "@jupyter-widgets/controls",
            "_model_module_version": "1.5.0",
            "_model_name": "HTMLModel",
            "_view_count": null,
            "_view_module": "@jupyter-widgets/controls",
            "_view_module_version": "1.5.0",
            "_view_name": "HTMLView",
            "description": "",
            "description_tooltip": null,
            "layout": "IPY_MODEL_81acb5d5696c404f801fe03e213067b6",
            "placeholder": "​",
            "style": "IPY_MODEL_9bf9ceb63b5b4898b64f229c00cb53ac",
            "value": " 5120/? [00:00&lt;00:00, 103402.99it/s]"
          }
        },
        "90c28445699a4b2daa1a3d9c98b15a6f": {
          "model_module": "@jupyter-widgets/base",
          "model_name": "LayoutModel",
          "model_module_version": "1.2.0",
          "state": {
            "_model_module": "@jupyter-widgets/base",
            "_model_module_version": "1.2.0",
            "_model_name": "LayoutModel",
            "_view_count": null,
            "_view_module": "@jupyter-widgets/base",
            "_view_module_version": "1.2.0",
            "_view_name": "LayoutView",
            "align_content": null,
            "align_items": null,
            "align_self": null,
            "border": null,
            "bottom": null,
            "display": null,
            "flex": null,
            "flex_flow": null,
            "grid_area": null,
            "grid_auto_columns": null,
            "grid_auto_flow": null,
            "grid_auto_rows": null,
            "grid_column": null,
            "grid_gap": null,
            "grid_row": null,
            "grid_template_areas": null,
            "grid_template_columns": null,
            "grid_template_rows": null,
            "height": null,
            "justify_content": null,
            "justify_items": null,
            "left": null,
            "margin": null,
            "max_height": null,
            "max_width": null,
            "min_height": null,
            "min_width": null,
            "object_fit": null,
            "object_position": null,
            "order": null,
            "overflow": null,
            "overflow_x": null,
            "overflow_y": null,
            "padding": null,
            "right": null,
            "top": null,
            "visibility": null,
            "width": null
          }
        },
        "a94353d5e3fc4365bd273e3ea6e44570": {
          "model_module": "@jupyter-widgets/base",
          "model_name": "LayoutModel",
          "model_module_version": "1.2.0",
          "state": {
            "_model_module": "@jupyter-widgets/base",
            "_model_module_version": "1.2.0",
            "_model_name": "LayoutModel",
            "_view_count": null,
            "_view_module": "@jupyter-widgets/base",
            "_view_module_version": "1.2.0",
            "_view_name": "LayoutView",
            "align_content": null,
            "align_items": null,
            "align_self": null,
            "border": null,
            "bottom": null,
            "display": null,
            "flex": null,
            "flex_flow": null,
            "grid_area": null,
            "grid_auto_columns": null,
            "grid_auto_flow": null,
            "grid_auto_rows": null,
            "grid_column": null,
            "grid_gap": null,
            "grid_row": null,
            "grid_template_areas": null,
            "grid_template_columns": null,
            "grid_template_rows": null,
            "height": null,
            "justify_content": null,
            "justify_items": null,
            "left": null,
            "margin": null,
            "max_height": null,
            "max_width": null,
            "min_height": null,
            "min_width": null,
            "object_fit": null,
            "object_position": null,
            "order": null,
            "overflow": null,
            "overflow_x": null,
            "overflow_y": null,
            "padding": null,
            "right": null,
            "top": null,
            "visibility": null,
            "width": null
          }
        },
        "10f5b52770c5427fa80ebad612864131": {
          "model_module": "@jupyter-widgets/controls",
          "model_name": "DescriptionStyleModel",
          "model_module_version": "1.5.0",
          "state": {
            "_model_module": "@jupyter-widgets/controls",
            "_model_module_version": "1.5.0",
            "_model_name": "DescriptionStyleModel",
            "_view_count": null,
            "_view_module": "@jupyter-widgets/base",
            "_view_module_version": "1.2.0",
            "_view_name": "StyleView",
            "description_width": ""
          }
        },
        "c9b248dd3eb74dada56d21dde241941f": {
          "model_module": "@jupyter-widgets/base",
          "model_name": "LayoutModel",
          "model_module_version": "1.2.0",
          "state": {
            "_model_module": "@jupyter-widgets/base",
            "_model_module_version": "1.2.0",
            "_model_name": "LayoutModel",
            "_view_count": null,
            "_view_module": "@jupyter-widgets/base",
            "_view_module_version": "1.2.0",
            "_view_name": "LayoutView",
            "align_content": null,
            "align_items": null,
            "align_self": null,
            "border": null,
            "bottom": null,
            "display": null,
            "flex": null,
            "flex_flow": null,
            "grid_area": null,
            "grid_auto_columns": null,
            "grid_auto_flow": null,
            "grid_auto_rows": null,
            "grid_column": null,
            "grid_gap": null,
            "grid_row": null,
            "grid_template_areas": null,
            "grid_template_columns": null,
            "grid_template_rows": null,
            "height": null,
            "justify_content": null,
            "justify_items": null,
            "left": null,
            "margin": null,
            "max_height": null,
            "max_width": null,
            "min_height": null,
            "min_width": null,
            "object_fit": null,
            "object_position": null,
            "order": null,
            "overflow": null,
            "overflow_x": null,
            "overflow_y": null,
            "padding": null,
            "right": null,
            "top": null,
            "visibility": null,
            "width": null
          }
        },
        "098581c51df44e8fb6c529abda3be620": {
          "model_module": "@jupyter-widgets/controls",
          "model_name": "ProgressStyleModel",
          "model_module_version": "1.5.0",
          "state": {
            "_model_module": "@jupyter-widgets/controls",
            "_model_module_version": "1.5.0",
            "_model_name": "ProgressStyleModel",
            "_view_count": null,
            "_view_module": "@jupyter-widgets/base",
            "_view_module_version": "1.2.0",
            "_view_name": "StyleView",
            "bar_color": null,
            "description_width": ""
          }
        },
        "81acb5d5696c404f801fe03e213067b6": {
          "model_module": "@jupyter-widgets/base",
          "model_name": "LayoutModel",
          "model_module_version": "1.2.0",
          "state": {
            "_model_module": "@jupyter-widgets/base",
            "_model_module_version": "1.2.0",
            "_model_name": "LayoutModel",
            "_view_count": null,
            "_view_module": "@jupyter-widgets/base",
            "_view_module_version": "1.2.0",
            "_view_name": "LayoutView",
            "align_content": null,
            "align_items": null,
            "align_self": null,
            "border": null,
            "bottom": null,
            "display": null,
            "flex": null,
            "flex_flow": null,
            "grid_area": null,
            "grid_auto_columns": null,
            "grid_auto_flow": null,
            "grid_auto_rows": null,
            "grid_column": null,
            "grid_gap": null,
            "grid_row": null,
            "grid_template_areas": null,
            "grid_template_columns": null,
            "grid_template_rows": null,
            "height": null,
            "justify_content": null,
            "justify_items": null,
            "left": null,
            "margin": null,
            "max_height": null,
            "max_width": null,
            "min_height": null,
            "min_width": null,
            "object_fit": null,
            "object_position": null,
            "order": null,
            "overflow": null,
            "overflow_x": null,
            "overflow_y": null,
            "padding": null,
            "right": null,
            "top": null,
            "visibility": null,
            "width": null
          }
        },
        "9bf9ceb63b5b4898b64f229c00cb53ac": {
          "model_module": "@jupyter-widgets/controls",
          "model_name": "DescriptionStyleModel",
          "model_module_version": "1.5.0",
          "state": {
            "_model_module": "@jupyter-widgets/controls",
            "_model_module_version": "1.5.0",
            "_model_name": "DescriptionStyleModel",
            "_view_count": null,
            "_view_module": "@jupyter-widgets/base",
            "_view_module_version": "1.2.0",
            "_view_name": "StyleView",
            "description_width": ""
          }
        }
      }
    }
  },
  "nbformat": 4,
  "nbformat_minor": 0
}